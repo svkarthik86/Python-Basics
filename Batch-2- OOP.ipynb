{
 "cells": [
  {
   "cell_type": "markdown",
   "id": "8bc9562e",
   "metadata": {},
   "source": [
    "# PYTHON- OOP "
   ]
  },
  {
   "cell_type": "code",
   "execution_count": null,
   "id": "3273e7a7",
   "metadata": {},
   "outputs": [],
   "source": []
  },
  {
   "cell_type": "markdown",
   "id": "02cf8463",
   "metadata": {},
   "source": [
    "Define Class and Object "
   ]
  },
  {
   "cell_type": "code",
   "execution_count": 153,
   "id": "61e27506",
   "metadata": {},
   "outputs": [],
   "source": [
    "class Employee:                #class Employee(object)\n",
    "        'Common base class for all employees' #doc string\n",
    "        empCount = 0 #class member variable\n",
    "\n",
    "        def __init__(self, name, salary): # initializer methods\n",
    "           self.name = name   #instant member variable\n",
    "           self.salary = salary\n",
    "           Employee.empCount += 1\n",
    "   \n",
    "        @classmethod   \n",
    "        def displayCount(cls): #class method\n",
    "            print(f\"Total Employee:{cls.empCount}\")\n",
    " \n",
    "        def displayEmployee(self):# instant method #obj method\n",
    "           print(f\"Name :{self.name}Salary:{self.salary}\")"
   ]
  },
  {
   "cell_type": "code",
   "execution_count": 111,
   "id": "1a727d24",
   "metadata": {},
   "outputs": [],
   "source": [
    "#object creating\n",
    "E1=Employee(\"sivam\",34000)"
   ]
  },
  {
   "cell_type": "code",
   "execution_count": 112,
   "id": "43fafc5d",
   "metadata": {},
   "outputs": [],
   "source": [
    "E2=Employee(\"kiran\",45000)"
   ]
  },
  {
   "cell_type": "code",
   "execution_count": 120,
   "id": "3e666a59",
   "metadata": {},
   "outputs": [
    {
     "data": {
      "text/plain": [
       "'sivam'"
      ]
     },
     "execution_count": 120,
     "metadata": {},
     "output_type": "execute_result"
    }
   ],
   "source": [
    "E1.name"
   ]
  },
  {
   "cell_type": "code",
   "execution_count": 121,
   "id": "beb18af9",
   "metadata": {},
   "outputs": [
    {
     "data": {
      "text/plain": [
       "2"
      ]
     },
     "execution_count": 121,
     "metadata": {},
     "output_type": "execute_result"
    }
   ],
   "source": [
    "E2.empCount"
   ]
  },
  {
   "cell_type": "code",
   "execution_count": 122,
   "id": "f53f0b6d",
   "metadata": {},
   "outputs": [
    {
     "data": {
      "text/plain": [
       "2"
      ]
     },
     "execution_count": 122,
     "metadata": {},
     "output_type": "execute_result"
    }
   ],
   "source": [
    "E1.empCount"
   ]
  },
  {
   "cell_type": "code",
   "execution_count": 126,
   "id": "3263cb52",
   "metadata": {},
   "outputs": [
    {
     "name": "stdout",
     "output_type": "stream",
     "text": [
      "Total Employee:2\n"
     ]
    }
   ],
   "source": [
    "Employee.displayCount()"
   ]
  },
  {
   "cell_type": "code",
   "execution_count": 128,
   "id": "36541abd",
   "metadata": {},
   "outputs": [
    {
     "name": "stdout",
     "output_type": "stream",
     "text": [
      "Name :sivamSalary:34000\n"
     ]
    }
   ],
   "source": [
    "E1.displayEmployee()"
   ]
  },
  {
   "cell_type": "code",
   "execution_count": 129,
   "id": "86e8526f",
   "metadata": {},
   "outputs": [
    {
     "name": "stdout",
     "output_type": "stream",
     "text": [
      "Name :kiranSalary:45000\n"
     ]
    }
   ],
   "source": [
    "E2.displayEmployee()"
   ]
  },
  {
   "cell_type": "code",
   "execution_count": null,
   "id": "baf2693c",
   "metadata": {},
   "outputs": [],
   "source": []
  },
  {
   "cell_type": "code",
   "execution_count": 9,
   "id": "df5764c2",
   "metadata": {},
   "outputs": [],
   "source": [
    "#object creation\n",
    "E1=Employee(\"kumar\",45000)"
   ]
  },
  {
   "cell_type": "code",
   "execution_count": 10,
   "id": "e231ac14",
   "metadata": {},
   "outputs": [],
   "source": [
    "E2=Employee(\"lavanya\",50000)"
   ]
  },
  {
   "cell_type": "code",
   "execution_count": null,
   "id": "bc4e5773",
   "metadata": {},
   "outputs": [],
   "source": [
    "Accessing Atrributes/variable"
   ]
  },
  {
   "cell_type": "code",
   "execution_count": 11,
   "id": "da79866b",
   "metadata": {},
   "outputs": [
    {
     "data": {
      "text/plain": [
       "'kumar'"
      ]
     },
     "execution_count": 11,
     "metadata": {},
     "output_type": "execute_result"
    }
   ],
   "source": [
    "E1.name"
   ]
  },
  {
   "cell_type": "code",
   "execution_count": 12,
   "id": "2d305a90",
   "metadata": {},
   "outputs": [
    {
     "data": {
      "text/plain": [
       "45000"
      ]
     },
     "execution_count": 12,
     "metadata": {},
     "output_type": "execute_result"
    }
   ],
   "source": [
    "E1.salary"
   ]
  },
  {
   "cell_type": "code",
   "execution_count": null,
   "id": "23015d1c",
   "metadata": {},
   "outputs": [],
   "source": [
    "Accessing Methods"
   ]
  },
  {
   "cell_type": "code",
   "execution_count": 14,
   "id": "04859c69",
   "metadata": {},
   "outputs": [
    {
     "name": "stdout",
     "output_type": "stream",
     "text": [
      "Name :lavanyaSalary:50000\n"
     ]
    }
   ],
   "source": [
    "E2.displayEmployee()"
   ]
  },
  {
   "cell_type": "markdown",
   "id": "4479cdb2",
   "metadata": {},
   "source": [
    "Accessing class method"
   ]
  },
  {
   "cell_type": "code",
   "execution_count": 15,
   "id": "fdaf932e",
   "metadata": {},
   "outputs": [
    {
     "name": "stdout",
     "output_type": "stream",
     "text": [
      "Total Employee:2\n"
     ]
    }
   ],
   "source": [
    "Employee.displayCount()"
   ]
  },
  {
   "cell_type": "code",
   "execution_count": 18,
   "id": "d004066d",
   "metadata": {},
   "outputs": [
    {
     "name": "stdout",
     "output_type": "stream",
     "text": [
      "Total Employee:2\n"
     ]
    }
   ],
   "source": [
    "E2.displayCount()"
   ]
  },
  {
   "cell_type": "code",
   "execution_count": 19,
   "id": "0b1053f4",
   "metadata": {},
   "outputs": [
    {
     "name": "stdout",
     "output_type": "stream",
     "text": [
      "Total Employee:2\n"
     ]
    }
   ],
   "source": [
    "E1.displayCount()"
   ]
  },
  {
   "cell_type": "code",
   "execution_count": 20,
   "id": "fec4c020",
   "metadata": {},
   "outputs": [],
   "source": [
    "E3=Employee(\"kiran\",45000)"
   ]
  },
  {
   "cell_type": "code",
   "execution_count": 21,
   "id": "b511cb85",
   "metadata": {},
   "outputs": [
    {
     "name": "stdout",
     "output_type": "stream",
     "text": [
      "Total Employee:3\n"
     ]
    }
   ],
   "source": [
    "Employee.displayCount()"
   ]
  },
  {
   "cell_type": "code",
   "execution_count": 22,
   "id": "4c01a5e1",
   "metadata": {},
   "outputs": [
    {
     "name": "stdout",
     "output_type": "stream",
     "text": [
      "Total Employee:3\n"
     ]
    }
   ],
   "source": [
    "E1.displayCount()"
   ]
  },
  {
   "cell_type": "markdown",
   "id": "f2094bf9",
   "metadata": {},
   "source": [
    "# OOP - built-in function"
   ]
  },
  {
   "cell_type": "code",
   "execution_count": 159,
   "id": "4149962c",
   "metadata": {},
   "outputs": [
    {
     "data": {
      "text/plain": [
       "False"
      ]
     },
     "execution_count": 159,
     "metadata": {},
     "output_type": "execute_result"
    }
   ],
   "source": [
    "#isinstance(object, classinfo)\n",
    "isinstance(E1,Employee) "
   ]
  },
  {
   "cell_type": "code",
   "execution_count": 131,
   "id": "c8ed4d2e",
   "metadata": {
    "scrolled": true
   },
   "outputs": [
    {
     "data": {
      "text/plain": [
       "False"
      ]
     },
     "execution_count": 131,
     "metadata": {},
     "output_type": "execute_result"
    }
   ],
   "source": [
    "x=10\n",
    "isinstance(x,Employee)"
   ]
  },
  {
   "cell_type": "code",
   "execution_count": 132,
   "id": "05ff39e9",
   "metadata": {},
   "outputs": [
    {
     "name": "stdout",
     "output_type": "stream",
     "text": [
      "<class '__main__.Employee'> <class 'int'>\n"
     ]
    }
   ],
   "source": [
    "print(type(E1),type(x))"
   ]
  },
  {
   "cell_type": "code",
   "execution_count": 136,
   "id": "de5bb8fd",
   "metadata": {},
   "outputs": [
    {
     "data": {
      "text/plain": [
       "True"
      ]
     },
     "execution_count": 136,
     "metadata": {},
     "output_type": "execute_result"
    }
   ],
   "source": [
    "#hasattr(object, name)  #chcking attribute present or not in an object\n",
    "hasattr(E1,\"name\")"
   ]
  },
  {
   "cell_type": "code",
   "execution_count": 134,
   "id": "ea4ba4cf",
   "metadata": {},
   "outputs": [
    {
     "data": {
      "text/plain": [
       "False"
      ]
     },
     "execution_count": 134,
     "metadata": {},
     "output_type": "execute_result"
    }
   ],
   "source": [
    "hasattr(E1,\"address\")"
   ]
  },
  {
   "cell_type": "code",
   "execution_count": 137,
   "id": "9420f4ff",
   "metadata": {},
   "outputs": [],
   "source": [
    "#setattr(object, name, value)\n",
    "setattr(E1,\"address\", \"chennai\")"
   ]
  },
  {
   "cell_type": "code",
   "execution_count": 138,
   "id": "e406e286",
   "metadata": {},
   "outputs": [
    {
     "data": {
      "text/plain": [
       "{'name': 'sivam', 'salary': 34000, 'address': 'chennai'}"
      ]
     },
     "execution_count": 138,
     "metadata": {},
     "output_type": "execute_result"
    }
   ],
   "source": [
    "E1.__dict__"
   ]
  },
  {
   "cell_type": "code",
   "execution_count": 142,
   "id": "beecfecb",
   "metadata": {},
   "outputs": [],
   "source": [
    "setattr(E2,\"address\", \"Bangalore\")"
   ]
  },
  {
   "cell_type": "code",
   "execution_count": 143,
   "id": "dc75dfe8",
   "metadata": {},
   "outputs": [
    {
     "data": {
      "text/plain": [
       "{'name': 'kiran', 'salary': 45000, 'address': 'Bangalore'}"
      ]
     },
     "execution_count": 143,
     "metadata": {},
     "output_type": "execute_result"
    }
   ],
   "source": [
    "E2.__dict__"
   ]
  },
  {
   "cell_type": "code",
   "execution_count": 147,
   "id": "506d02ec",
   "metadata": {},
   "outputs": [
    {
     "data": {
      "text/plain": [
       "True"
      ]
     },
     "execution_count": 147,
     "metadata": {},
     "output_type": "execute_result"
    }
   ],
   "source": [
    "#issubclass(class, classinfo) \n",
    "class A:\n",
    "    pass\n",
    "class B(A):\n",
    "    pass\n",
    "issubclass(B, A)\n"
   ]
  },
  {
   "cell_type": "code",
   "execution_count": 157,
   "id": "1c9b68f7",
   "metadata": {},
   "outputs": [],
   "source": [
    "class C:\n",
    "    pass"
   ]
  },
  {
   "cell_type": "code",
   "execution_count": 158,
   "id": "dc2743f1",
   "metadata": {},
   "outputs": [
    {
     "data": {
      "text/plain": [
       "True"
      ]
     },
     "execution_count": 158,
     "metadata": {},
     "output_type": "execute_result"
    }
   ],
   "source": [
    "issubclass(C,object)"
   ]
  },
  {
   "cell_type": "code",
   "execution_count": null,
   "id": "09ffcb65",
   "metadata": {},
   "outputs": [],
   "source": []
  },
  {
   "cell_type": "code",
   "execution_count": 162,
   "id": "c4e9169b",
   "metadata": {},
   "outputs": [
    {
     "data": {
      "text/plain": [
       "34000"
      ]
     },
     "execution_count": 162,
     "metadata": {},
     "output_type": "execute_result"
    }
   ],
   "source": [
    "#getattr(object, name[, default])\n",
    "#Return the value of the named attribute of object.\n",
    "getattr(E1,\"salary\")"
   ]
  },
  {
   "cell_type": "code",
   "execution_count": 161,
   "id": "6aaa74ab",
   "metadata": {},
   "outputs": [
    {
     "data": {
      "text/plain": [
       "'kiran'"
      ]
     },
     "execution_count": 161,
     "metadata": {},
     "output_type": "execute_result"
    }
   ],
   "source": [
    "getattr(E2,\"name\")"
   ]
  },
  {
   "cell_type": "code",
   "execution_count": 163,
   "id": "10a68215",
   "metadata": {},
   "outputs": [],
   "source": [
    "#delattr(object, name)\n",
    "delattr(E1,\"address\")"
   ]
  },
  {
   "cell_type": "code",
   "execution_count": 164,
   "id": "e4e42a64",
   "metadata": {},
   "outputs": [
    {
     "data": {
      "text/plain": [
       "{'name': 'sivam', 'salary': 34000}"
      ]
     },
     "execution_count": 164,
     "metadata": {},
     "output_type": "execute_result"
    }
   ],
   "source": [
    "E1.__dict__"
   ]
  },
  {
   "cell_type": "code",
   "execution_count": null,
   "id": "76ab35fd",
   "metadata": {},
   "outputs": [],
   "source": []
  },
  {
   "cell_type": "code",
   "execution_count": null,
   "id": "3e147ff3",
   "metadata": {},
   "outputs": [],
   "source": []
  },
  {
   "cell_type": "markdown",
   "id": "9b0ad88c",
   "metadata": {},
   "source": [
    "Buitin - class Attributes:"
   ]
  },
  {
   "cell_type": "code",
   "execution_count": 165,
   "id": "a730be89",
   "metadata": {},
   "outputs": [
    {
     "name": "stdout",
     "output_type": "stream",
     "text": [
      "['__class__', '__delattr__', '__dict__', '__dir__', '__doc__', '__eq__', '__format__', '__ge__', '__getattribute__', '__gt__', '__hash__', '__init__', '__init_subclass__', '__le__', '__lt__', '__module__', '__ne__', '__new__', '__reduce__', '__reduce_ex__', '__repr__', '__setattr__', '__sizeof__', '__str__', '__subclasshook__', '__weakref__', 'displayCount', 'displayEmployee', 'empCount']\n"
     ]
    }
   ],
   "source": [
    "#listing attribute and methods associated with Class using dir()\n",
    "print(dir(Employee))"
   ]
  },
  {
   "cell_type": "markdown",
   "id": "52fe52db",
   "metadata": {},
   "source": [
    "# Built-In Class Attributes\n",
    "- Every Python class keeps following built-in attributes and they can be accessed using dot operator like any other attribute −"
   ]
  },
  {
   "cell_type": "markdown",
   "id": "6fef89af",
   "metadata": {},
   "source": [
    "• __dict__ − Dictionary containing the class's namespace.\n",
    "• __doc__ − Class documentation string or none, if undefined.\n",
    "• __name__ − Class name.\n",
    "• __module__ − Module name in which the class is defined. This attribute is \"__main__\" in interactive mode.\n",
    "• __bases__ − A possibly empty tuple containing the base classes, in the order of their occurrence in the base class list."
   ]
  },
  {
   "cell_type": "code",
   "execution_count": 166,
   "id": "2a6368eb",
   "metadata": {},
   "outputs": [
    {
     "name": "stdout",
     "output_type": "stream",
     "text": [
      "{'__module__': '__main__', '__doc__': 'Common base class for all employees', 'empCount': 0, '__init__': <function Employee.__init__ at 0x000001D7FFF2AE50>, 'displayCount': <classmethod object at 0x000001D78002D550>, 'displayEmployee': <function Employee.displayEmployee at 0x000001D7FFF2A280>, '__dict__': <attribute '__dict__' of 'Employee' objects>, '__weakref__': <attribute '__weakref__' of 'Employee' objects>}\n"
     ]
    }
   ],
   "source": [
    "print(Employee.__dict__) #class's namespace."
   ]
  },
  {
   "cell_type": "code",
   "execution_count": 167,
   "id": "6cedf863",
   "metadata": {},
   "outputs": [
    {
     "name": "stdout",
     "output_type": "stream",
     "text": [
      "{'name': 'sivam', 'salary': 34000}\n"
     ]
    }
   ],
   "source": [
    "print(E1.__dict__)#object's namespace"
   ]
  },
  {
   "cell_type": "code",
   "execution_count": 168,
   "id": "c7ba185b",
   "metadata": {},
   "outputs": [
    {
     "name": "stdout",
     "output_type": "stream",
     "text": [
      "Common base class for all employees\n"
     ]
    }
   ],
   "source": [
    "print(Employee.__doc__) #Class documentation string"
   ]
  },
  {
   "cell_type": "code",
   "execution_count": 169,
   "id": "967fb51b",
   "metadata": {},
   "outputs": [
    {
     "name": "stdout",
     "output_type": "stream",
     "text": [
      "Common base class for all employees\n"
     ]
    }
   ],
   "source": [
    "print(E2.__doc__)"
   ]
  },
  {
   "cell_type": "code",
   "execution_count": 44,
   "id": "69326d90",
   "metadata": {},
   "outputs": [
    {
     "name": "stdout",
     "output_type": "stream",
     "text": [
      "Employee\n"
     ]
    }
   ],
   "source": [
    "print(Employee.__name__)"
   ]
  },
  {
   "cell_type": "code",
   "execution_count": 49,
   "id": "28f0f72f",
   "metadata": {},
   "outputs": [
    {
     "name": "stdout",
     "output_type": "stream",
     "text": [
      "__main__\n"
     ]
    }
   ],
   "source": [
    "print(Employee.__module__)"
   ]
  },
  {
   "cell_type": "code",
   "execution_count": 57,
   "id": "c56bfa98",
   "metadata": {},
   "outputs": [
    {
     "name": "stdout",
     "output_type": "stream",
     "text": [
      "(<class 'object'>,)\n"
     ]
    }
   ],
   "source": [
    "print(Employee.__bases__)"
   ]
  },
  {
   "cell_type": "code",
   "execution_count": 56,
   "id": "cac9b6ba",
   "metadata": {},
   "outputs": [
    {
     "data": {
      "text/plain": [
       "(object,)"
      ]
     },
     "execution_count": 56,
     "metadata": {},
     "output_type": "execute_result"
    }
   ],
   "source": [
    "int.__bases__"
   ]
  },
  {
   "cell_type": "code",
   "execution_count": 170,
   "id": "196f9f3a",
   "metadata": {},
   "outputs": [
    {
     "data": {
      "text/plain": [
       "(object,)"
      ]
     },
     "execution_count": 170,
     "metadata": {},
     "output_type": "execute_result"
    }
   ],
   "source": [
    "dict.__bases__"
   ]
  },
  {
   "cell_type": "code",
   "execution_count": 171,
   "id": "1255706c",
   "metadata": {},
   "outputs": [
    {
     "data": {
      "text/plain": [
       "<object at 0x1d7fefd6660>"
      ]
     },
     "execution_count": 171,
     "metadata": {},
     "output_type": "execute_result"
    }
   ],
   "source": [
    "object()"
   ]
  },
  {
   "cell_type": "code",
   "execution_count": 172,
   "id": "59556112",
   "metadata": {},
   "outputs": [
    {
     "name": "stdout",
     "output_type": "stream",
     "text": [
      "Employee.__doc__: Common base class for all employees\n",
      "Employee.__name__: Employee\n",
      "Employee.__module__: __main__\n",
      "Employee.__bases__: (<class 'object'>,)\n",
      "Employee.__dict__: {'__module__': '__main__', '__doc__': 'Common base class for all employees', 'empCount': 0, '__init__': <function Employee.__init__ at 0x000001D7FFF2AE50>, 'displayCount': <classmethod object at 0x000001D78002D550>, 'displayEmployee': <function Employee.displayEmployee at 0x000001D7FFF2A280>, '__dict__': <attribute '__dict__' of 'Employee' objects>, '__weakref__': <attribute '__weakref__' of 'Employee' objects>}\n"
     ]
    }
   ],
   "source": [
    "print(\"Employee.__doc__:\", Employee.__doc__)\n",
    "print(\"Employee.__name__:\", Employee.__name__)\n",
    "print(\"Employee.__module__:\", Employee.__module__)\n",
    "print(\"Employee.__bases__:\", Employee.__bases__)\n",
    "print(\"Employee.__dict__:\", Employee.__dict__)"
   ]
  },
  {
   "cell_type": "markdown",
   "id": "e25de889",
   "metadata": {},
   "source": [
    "# Destroying Objects (Garbage Collection)"
   ]
  },
  {
   "cell_type": "code",
   "execution_count": 175,
   "id": "255cf115",
   "metadata": {},
   "outputs": [],
   "source": [
    "class Point:\n",
    "    def __init__( self, x=0, y=0): # constructor/instializer\n",
    "                self.x = x\n",
    "                self.y = y\n",
    "    def __del__(self):  # destructor ,implict while object, del invoked\n",
    "        class_name = self.__class__.__name__\n",
    "        print(class_name, \"destroyed\")"
   ]
  },
  {
   "cell_type": "code",
   "execution_count": 190,
   "id": "5b05a310",
   "metadata": {},
   "outputs": [
    {
     "name": "stdout",
     "output_type": "stream",
     "text": [
      "2027222965360 2027222965360 2027222965360\n",
      "Point destroyed\n"
     ]
    }
   ],
   "source": [
    "pt1 = Point(4,5)\n",
    "pt2 = pt1\n",
    "pt3 = pt1\n",
    "print(id(pt1), id(pt2), id(pt3))# prints the ids of the obejcts\n",
    "del pt1\n",
    "del pt2\n",
    "del pt3"
   ]
  },
  {
   "cell_type": "code",
   "execution_count": null,
   "id": "7ef5d825",
   "metadata": {},
   "outputs": [],
   "source": []
  },
  {
   "cell_type": "code",
   "execution_count": null,
   "id": "fa472c4c",
   "metadata": {},
   "outputs": [],
   "source": [
    "class Vector:\n",
    "    def __init__(x,)"
   ]
  },
  {
   "cell_type": "code",
   "execution_count": null,
   "id": "71dc3671",
   "metadata": {},
   "outputs": [],
   "source": []
  },
  {
   "cell_type": "code",
   "execution_count": null,
   "id": "b3ef68d8",
   "metadata": {},
   "outputs": [],
   "source": []
  },
  {
   "cell_type": "code",
   "execution_count": null,
   "id": "3f379302",
   "metadata": {},
   "outputs": [],
   "source": []
  },
  {
   "cell_type": "code",
   "execution_count": null,
   "id": "810520cd",
   "metadata": {},
   "outputs": [],
   "source": []
  },
  {
   "cell_type": "code",
   "execution_count": 186,
   "id": "aab921dd",
   "metadata": {},
   "outputs": [],
   "source": [
    "pt1=Point()"
   ]
  },
  {
   "cell_type": "code",
   "execution_count": null,
   "id": "4914eb82",
   "metadata": {},
   "outputs": [],
   "source": []
  },
  {
   "cell_type": "code",
   "execution_count": 77,
   "id": "57005b2c",
   "metadata": {},
   "outputs": [],
   "source": [
    " class Account(object):\n",
    "        interest = 0.02\n",
    "        def __init__(self, account_holder):\n",
    "            self.balance = 0\n",
    "            self.holder = account_holder\n",
    "        def deposit(self, amount):\n",
    "            self.balance = self.balance + amount\n",
    "            print(\"Yes!\")\n",
    "            "
   ]
  },
  {
   "cell_type": "code",
   "execution_count": 80,
   "id": "655985bd",
   "metadata": {},
   "outputs": [],
   "source": [
    "A1=Account(\"karthik\")"
   ]
  },
  {
   "cell_type": "code",
   "execution_count": 82,
   "id": "30dfe2bf",
   "metadata": {},
   "outputs": [
    {
     "data": {
      "text/plain": [
       "'karthik'"
      ]
     },
     "execution_count": 82,
     "metadata": {},
     "output_type": "execute_result"
    }
   ],
   "source": [
    "A1.holder"
   ]
  },
  {
   "cell_type": "code",
   "execution_count": 83,
   "id": "f5762cae",
   "metadata": {},
   "outputs": [
    {
     "ename": "AttributeError",
     "evalue": "type object 'Account' has no attribute 'holder'",
     "output_type": "error",
     "traceback": [
      "\u001b[1;31m---------------------------------------------------------------------------\u001b[0m",
      "\u001b[1;31mAttributeError\u001b[0m                            Traceback (most recent call last)",
      "Input \u001b[1;32mIn [83]\u001b[0m, in \u001b[0;36m<cell line: 1>\u001b[1;34m()\u001b[0m\n\u001b[1;32m----> 1\u001b[0m \u001b[43mAccount\u001b[49m\u001b[38;5;241;43m.\u001b[39;49m\u001b[43mholder\u001b[49m\n",
      "\u001b[1;31mAttributeError\u001b[0m: type object 'Account' has no attribute 'holder'"
     ]
    }
   ],
   "source": [
    "Account.holder"
   ]
  },
  {
   "cell_type": "code",
   "execution_count": 84,
   "id": "0bc1aab1",
   "metadata": {},
   "outputs": [
    {
     "data": {
      "text/plain": [
       "0.02"
      ]
     },
     "execution_count": 84,
     "metadata": {},
     "output_type": "execute_result"
    }
   ],
   "source": [
    "Account.interest"
   ]
  },
  {
   "cell_type": "code",
   "execution_count": 86,
   "id": "07965f90",
   "metadata": {},
   "outputs": [
    {
     "data": {
      "text/plain": [
       "0.02"
      ]
     },
     "execution_count": 86,
     "metadata": {},
     "output_type": "execute_result"
    }
   ],
   "source": [
    "A1.interest"
   ]
  },
  {
   "cell_type": "code",
   "execution_count": 88,
   "id": "de0df20e",
   "metadata": {},
   "outputs": [
    {
     "data": {
      "text/plain": [
       "0.03"
      ]
     },
     "execution_count": 88,
     "metadata": {},
     "output_type": "execute_result"
    }
   ],
   "source": [
    "Account.interest = 0.03\n",
    "A1.interest"
   ]
  },
  {
   "cell_type": "code",
   "execution_count": 89,
   "id": "b24a024c",
   "metadata": {},
   "outputs": [
    {
     "name": "stdout",
     "output_type": "stream",
     "text": [
      "Yes!\n"
     ]
    }
   ],
   "source": [
    "A1.deposit(1000)"
   ]
  },
  {
   "cell_type": "code",
   "execution_count": 91,
   "id": "2d291cb9",
   "metadata": {},
   "outputs": [
    {
     "data": {
      "text/plain": [
       "1000"
      ]
     },
     "execution_count": 91,
     "metadata": {},
     "output_type": "execute_result"
    }
   ],
   "source": [
    "A1.balance"
   ]
  },
  {
   "cell_type": "code",
   "execution_count": 94,
   "id": "8e163cf5",
   "metadata": {},
   "outputs": [],
   "source": [
    "A1.interest =9001"
   ]
  },
  {
   "cell_type": "code",
   "execution_count": 95,
   "id": "21d48ee0",
   "metadata": {},
   "outputs": [
    {
     "data": {
      "text/plain": [
       "0.03"
      ]
     },
     "execution_count": 95,
     "metadata": {},
     "output_type": "execute_result"
    }
   ],
   "source": [
    "Account.interest"
   ]
  },
  {
   "cell_type": "code",
   "execution_count": null,
   "id": "3717cc84",
   "metadata": {},
   "outputs": [],
   "source": [
    ">>> a = Account(\"Billy\")\n",
    ">>> a.account_holder\n",
    "_____Error_\n",
    "\n",
    ">>> a.holder\n",
    "_Billy_____\n",
    "\n",
    ">>> Account.holder\n",
    "___Error___\n",
    "\n",
    ">>> Account.interest\n",
    "__0.02____\n",
    "\n",
    ">>> a.interest\n",
    "____0.02__\n",
    "\n",
    ">>> Account.interest = 0.03\n",
    ">>> a.interest\n",
    "_0.03_____\n",
    "\n",
    ">>> a.deposit(1000)\n",
    "_yes_____\n",
    "\n",
    ">>> a.balance\n",
    "__1000____\n",
    "\n",
    ">>> a.interest = 9001\n",
    ">>> Account.interest\n",
    "______"
   ]
  },
  {
   "cell_type": "code",
   "execution_count": null,
   "id": "04f79598",
   "metadata": {},
   "outputs": [],
   "source": [
    "Question 3\n",
    "Modify the Account class from lecture so that it has a new attribute, transactions, that is a list keeping track of any \n",
    "transactions performed. See the doctest for an example.\n",
    "\n",
    "class Account(object):\n",
    "    interest = 0.02 # class attribute\n",
    "\n",
    "    def __init__(self, account_holder):\n",
    "        self.balance = 0\n",
    "        self.holder = account_holder\n",
    "                \"*** YOUR CODE HERE ***\"\n",
    "\n",
    "    def deposit(self, amount):\n",
    "        \"\"\"Increase the account balance by amount and return the\n",
    "        new balance.\n",
    "        \"\"\"\n",
    "        \"*** YOUR CODE HERE ***\"\n",
    "        self.balance = self.balance + amount\n",
    "        return self.balance\n",
    "\n",
    "    def withdraw(self, amount):\n",
    "        \"\"\"Decrease the account balance by amount and return the\n",
    "        new balance.\n",
    "        \"\"\"\n",
    "        \"*** YOUR CODE HERE ***\"\n",
    "        if amount > self.balance:\n",
    "            return 'Insufficient funds'\n",
    "        self.balance = self.balance - amount\n",
    "        return self.balance"
   ]
  },
  {
   "cell_type": "code",
   "execution_count": 96,
   "id": "13fdde2e",
   "metadata": {},
   "outputs": [
    {
     "name": "stdout",
     "output_type": "stream",
     "text": [
      "This is non parametrized constructor\n",
      "Hello irfan\n"
     ]
    }
   ],
   "source": [
    "class Student:\n",
    "    # Constructor - non parameterized\n",
    "    def __init__(self):\n",
    "        print(\"This is non parametrized constructor\")\n",
    "    def show(self,name):\n",
    "        print(\"Hello\",name)\n",
    "student = Student()\n",
    "student.show(\"irfan\")"
   ]
  },
  {
   "cell_type": "code",
   "execution_count": 97,
   "id": "775db665",
   "metadata": {},
   "outputs": [
    {
     "name": "stdout",
     "output_type": "stream",
     "text": [
      "This is non parametrized constructor\n"
     ]
    }
   ],
   "source": [
    "s2=Student()"
   ]
  },
  {
   "cell_type": "code",
   "execution_count": 193,
   "id": "29812efa",
   "metadata": {},
   "outputs": [
    {
     "name": "stdout",
     "output_type": "stream",
     "text": [
      " Obj1 == Obj2  True\n",
      " Obj1 == Obj3  False\n"
     ]
    }
   ],
   "source": [
    "#Write a program to pass an object as parameter to a method.\n",
    "class Test:\n",
    "    a = 0\n",
    "    b = 0\n",
    "    def __init__(self, x , y):\n",
    "        self.a = x\n",
    "        self.b = y\n",
    "    def equals(self, obj): #explicit\n",
    "        if(obj.a == self.a and obj.b == self.b):\n",
    "            return True\n",
    "        else:\n",
    "            return False\n",
    "Obj1 = Test(10,20)\n",
    "Obj2 = Test(10,20)\n",
    "Obj3 = Test(10,90)\n",
    "print(' Obj1 == Obj2 ',Obj1.equals(Obj2))\n",
    "print(' Obj1 == Obj3 ',Obj1.equals(Obj3))"
   ]
  },
  {
   "cell_type": "code",
   "execution_count": 199,
   "id": "86c78a14",
   "metadata": {},
   "outputs": [],
   "source": [
    "class Test:\n",
    "    a = 0\n",
    "    b = 0\n",
    "    def __init__(self, x , y):\n",
    "        self.a = x\n",
    "        self.b = y\n",
    "    def __eq__(self,aobj):  #== implicit\n",
    "        if(aobj.a == self.a and aobj.b == self.b):\n",
    "            return True\n",
    "        else:\n",
    "            return False"
   ]
  },
  {
   "cell_type": "code",
   "execution_count": 200,
   "id": "16f095c1",
   "metadata": {},
   "outputs": [],
   "source": [
    "Obj1 = Test(10,20)\n",
    "Obj2 = Test(10,20)\n",
    "Obj3 = Test(10,90)"
   ]
  },
  {
   "cell_type": "code",
   "execution_count": 201,
   "id": "a333633e",
   "metadata": {},
   "outputs": [
    {
     "data": {
      "text/plain": [
       "True"
      ]
     },
     "execution_count": 201,
     "metadata": {},
     "output_type": "execute_result"
    }
   ],
   "source": [
    "Obj1==Obj2 # implicit"
   ]
  },
  {
   "cell_type": "code",
   "execution_count": 202,
   "id": "383c6080",
   "metadata": {},
   "outputs": [
    {
     "data": {
      "text/plain": [
       "False"
      ]
     },
     "execution_count": 202,
     "metadata": {},
     "output_type": "execute_result"
    }
   ],
   "source": [
    "Obj1==Obj3"
   ]
  },
  {
   "cell_type": "code",
   "execution_count": 198,
   "id": "a4804057",
   "metadata": {},
   "outputs": [
    {
     "data": {
      "text/plain": [
       "True"
      ]
     },
     "execution_count": 198,
     "metadata": {},
     "output_type": "execute_result"
    }
   ],
   "source": [
    "4==4"
   ]
  },
  {
   "cell_type": "code",
   "execution_count": 203,
   "id": "7ad8a9e1",
   "metadata": {},
   "outputs": [
    {
     "data": {
      "text/plain": [
       "False"
      ]
     },
     "execution_count": 203,
     "metadata": {},
     "output_type": "execute_result"
    }
   ],
   "source": [
    "5==4"
   ]
  },
  {
   "cell_type": "code",
   "execution_count": 206,
   "id": "88e89853",
   "metadata": {},
   "outputs": [],
   "source": [
    "class LE:\n",
    "    def __le__(self,other):\n",
    "        print(\"This is lees than operation\")\n",
    "        \n"
   ]
  },
  {
   "cell_type": "code",
   "execution_count": 207,
   "id": "b949160e",
   "metadata": {},
   "outputs": [],
   "source": [
    "le1=LE()"
   ]
  },
  {
   "cell_type": "code",
   "execution_count": 208,
   "id": "3adf63d7",
   "metadata": {},
   "outputs": [],
   "source": [
    "le2=LE()"
   ]
  },
  {
   "cell_type": "code",
   "execution_count": 209,
   "id": "0bb034c8",
   "metadata": {},
   "outputs": [
    {
     "name": "stdout",
     "output_type": "stream",
     "text": [
      "This is lees than operation\n"
     ]
    }
   ],
   "source": [
    "le1<=le2"
   ]
  },
  {
   "cell_type": "code",
   "execution_count": 109,
   "id": "bf8fdc63",
   "metadata": {},
   "outputs": [
    {
     "data": {
      "text/plain": [
       "True"
      ]
     },
     "execution_count": 109,
     "metadata": {},
     "output_type": "execute_result"
    }
   ],
   "source": [
    "2<=3"
   ]
  },
  {
   "cell_type": "markdown",
   "id": "e7a0d450",
   "metadata": {},
   "source": [
    "# Polymorphism in Python"
   ]
  },
  {
   "cell_type": "markdown",
   "id": "9f3d417e",
   "metadata": {},
   "source": [
    "Polymorphism means multiple forms. \n",
    "In python we can find the same operator or function taking multiple forms.\n",
    "It also useful in creating different classes which will have class methods with same name. \n",
    "That helps in re using a lot of code and decreases code complexity"
   ]
  },
  {
   "cell_type": "markdown",
   "id": "029c3ac6",
   "metadata": {},
   "source": [
    "## Polymorphism in operators  # Operator Overloading\n",
    "\n",
    "- The + operator can take two inputs and give us the result depending on what the inputs are."
   ]
  },
  {
   "cell_type": "code",
   "execution_count": 1,
   "id": "8f7447aa",
   "metadata": {},
   "outputs": [
    {
     "name": "stdout",
     "output_type": "stream",
     "text": [
      "34\n",
      "<class 'int'>\n",
      "20.5\n",
      "<class 'float'>\n",
      "HelloThere!\n",
      "<class 'str'>\n"
     ]
    }
   ],
   "source": [
    "a = 23\n",
    "b = 11\n",
    "c = 9.5\n",
    "s1 = \"Hello\"\n",
    "s2 = \"There!\"\n",
    "print(a + b)\n",
    "print(type(a + b))\n",
    "print(b + c)\n",
    "print(type (b + c))\n",
    "print(s1 + s2)\n",
    "print(type(s1 + s2))"
   ]
  },
  {
   "cell_type": "code",
   "execution_count": null,
   "id": "c6e11b06",
   "metadata": {},
   "outputs": [],
   "source": [
    "Magic method to overload + operator"
   ]
  },
  {
   "cell_type": "code",
   "execution_count": 2,
   "id": "3aef0601",
   "metadata": {},
   "outputs": [],
   "source": [
    "class Vector:\n",
    "    def __init__(self,x,y):\n",
    "        self.x=x\n",
    "        self.y=y\n",
    "    def __add__(self,aobj): # + operator overloading method\n",
    "        return (self.x+aobj.x,self.y+aobj.y)\n",
    "    def __sub__(self,aobj):\n",
    "        return (self.x-aobj.x,self.y-aobj.y)\n",
    "    "
   ]
  },
  {
   "cell_type": "code",
   "execution_count": 3,
   "id": "228cd8bd",
   "metadata": {},
   "outputs": [],
   "source": [
    "V1=Vector(4,5)"
   ]
  },
  {
   "cell_type": "code",
   "execution_count": 6,
   "id": "4fe3119b",
   "metadata": {},
   "outputs": [],
   "source": [
    "V2=Vector(3,2)"
   ]
  },
  {
   "cell_type": "code",
   "execution_count": 7,
   "id": "d6d596b6",
   "metadata": {},
   "outputs": [
    {
     "data": {
      "text/plain": [
       "(7, 7)"
      ]
     },
     "execution_count": 7,
     "metadata": {},
     "output_type": "execute_result"
    }
   ],
   "source": [
    "V1+V2 # + operator invoking __add__() method"
   ]
  },
  {
   "cell_type": "code",
   "execution_count": 8,
   "id": "401d21b8",
   "metadata": {},
   "outputs": [
    {
     "data": {
      "text/plain": [
       "(1, 3)"
      ]
     },
     "execution_count": 8,
     "metadata": {},
     "output_type": "execute_result"
    }
   ],
   "source": [
    "V1-V2"
   ]
  },
  {
   "cell_type": "code",
   "execution_count": 9,
   "id": "963eaf28",
   "metadata": {
    "scrolled": true
   },
   "outputs": [
    {
     "name": "stdout",
     "output_type": "stream",
     "text": [
      "['__add__', '__class__', '__delattr__', '__dict__', '__dir__', '__doc__', '__eq__', '__format__', '__ge__', '__getattribute__', '__gt__', '__hash__', '__init__', '__init_subclass__', '__le__', '__lt__', '__module__', '__ne__', '__new__', '__reduce__', '__reduce_ex__', '__repr__', '__setattr__', '__sizeof__', '__str__', '__sub__', '__subclasshook__', '__weakref__', 'x', 'y']\n"
     ]
    }
   ],
   "source": [
    "print(dir(V1))"
   ]
  },
  {
   "cell_type": "code",
   "execution_count": 9,
   "id": "d68dc980",
   "metadata": {},
   "outputs": [
    {
     "name": "stdout",
     "output_type": "stream",
     "text": [
      "['__class__', '__delattr__', '__dir__', '__doc__', '__eq__', '__format__', '__ge__', '__getattribute__', '__gt__', '__hash__', '__init__', '__init_subclass__', '__le__', '__lt__', '__ne__', '__new__', '__reduce__', '__reduce_ex__', '__repr__', '__setattr__', '__sizeof__', '__str__', '__subclasshook__']\n"
     ]
    }
   ],
   "source": [
    "print(dir(object))"
   ]
  },
  {
   "cell_type": "markdown",
   "id": "2ff19977",
   "metadata": {},
   "source": [
    "# List of  magic Methods for Operator Overloading:"
   ]
  },
  {
   "cell_type": "code",
   "execution_count": null,
   "id": "be4a94be",
   "metadata": {},
   "outputs": [],
   "source": [
    "__eq__ ==\n",
    "__ge__ >=\n",
    "__gt__ >\n",
    "__lt__ <\n",
    "__le__ <=\n",
    "__ne__ !=\n"
   ]
  },
  {
   "cell_type": "markdown",
   "id": "398c5730",
   "metadata": {},
   "source": [
    "### Polymorphism in in-built functions # function overloading\n",
    "- We can also see that different python functions can take inputs of different types and then process them differently. \n",
    "- When we supply a string value to len() it counts every letter in it. \n",
    "- But if we five tuple or a dictionary as an input, it processes them differently."
   ]
  },
  {
   "cell_type": "code",
   "execution_count": 10,
   "id": "8cc7b0c9",
   "metadata": {},
   "outputs": [
    {
     "name": "stdout",
     "output_type": "stream",
     "text": [
      "10\n",
      "5\n",
      "4\n",
      "3\n"
     ]
    }
   ],
   "source": [
    "str = 'Hi There !'\n",
    "tup = ('Mon','Tue','wed','Thu','Fri')\n",
    "lst = ['Jan','Feb','Mar','Apr']\n",
    "dict = {'1D':'Line','2D':'Triangle','3D':'Sphere'}\n",
    "print(len(str))\n",
    "print(len(tup))\n",
    "print(len(lst))\n",
    "print(len(dict))"
   ]
  },
  {
   "attachments": {
    "image.png": {
     "image/png": "[encoded data removed]"
    }
   },
   "cell_type": "markdown",
   "id": "042f9def",
   "metadata": {},
   "source": [
    "![image.png](attachment:image.png)"
   ]
  },
  {
   "cell_type": "markdown",
   "id": "1741cd0b",
   "metadata": {},
   "source": [
    "# Polymorphism in user-defined methods # method overloading"
   ]
  },
  {
   "cell_type": "code",
   "execution_count": 17,
   "id": "4f03534b",
   "metadata": {},
   "outputs": [],
   "source": [
    "class Operation1:\n",
    "    def add(self,a,b):\n",
    "        return a+b\n",
    "    def add(self,a,b,c):\n",
    "        return a+b+c\n",
    "    def add(self,a,b,c,d):\n",
    "        return a+b+c+d"
   ]
  },
  {
   "cell_type": "code",
   "execution_count": 18,
   "id": "2841896a",
   "metadata": {},
   "outputs": [],
   "source": [
    "obj1=Operation1()"
   ]
  },
  {
   "cell_type": "code",
   "execution_count": 20,
   "id": "3956c5ec",
   "metadata": {},
   "outputs": [
    {
     "data": {
      "text/plain": [
       "73"
      ]
     },
     "execution_count": 20,
     "metadata": {},
     "output_type": "execute_result"
    }
   ],
   "source": [
    "obj1.add(2,34,34,3)"
   ]
  },
  {
   "cell_type": "code",
   "execution_count": 21,
   "id": "6e07d2b5",
   "metadata": {},
   "outputs": [
    {
     "name": "stdout",
     "output_type": "stream",
     "text": [
      "Addition of integer numbers=  60\n",
      "Addition of integer numbers=  36.15\n",
      "Addition of stings=  HelloWorld\n"
     ]
    }
   ],
   "source": [
    "class operation:\n",
    "     def add(self,a=0,b=0,c=0):    # in puython method overloading with same function name in class is not possible\n",
    "            if(a!=None and b!=None and c!=None):   \n",
    "                return a+b+c\n",
    "            elif (a!=None and b!=None):\n",
    "                return a+b\n",
    "       \n",
    "op=operation()\n",
    "# To add two integer numbers\n",
    "print(\"Addition of integer numbers= \",op.add(10,20,30)) # int\n",
    "# To add two floating numbers\n",
    "print(\"Addition of integer numbers= \",op.add(11.12,12.13,12.9)) #float\n",
    "# To add two strings\n",
    "print(\"Addition of stings= \",op.add(\"Hello\",\"World\",\"\")) # str"
   ]
  },
  {
   "cell_type": "code",
   "execution_count": 24,
   "id": "cb36cece",
   "metadata": {},
   "outputs": [
    {
     "data": {
      "text/plain": [
       "41"
      ]
     },
     "execution_count": 24,
     "metadata": {},
     "output_type": "execute_result"
    }
   ],
   "source": [
    "op.add(34,4,3)"
   ]
  },
  {
   "cell_type": "markdown",
   "id": "00f7de83",
   "metadata": {},
   "source": [
    "### Polymorphism in user-defined methods inside the class\n",
    "- We can create methods with same name but wrapped under different class names. \n",
    "- So we can keep calling the same method with different class name pre-fixed to get different result. \n",
    "- In the below example we have two classes, rectangle and circle to get their perimeter and area using same methods."
   ]
  },
  {
   "cell_type": "code",
   "execution_count": 25,
   "id": "dfe662ae",
   "metadata": {},
   "outputs": [
    {
     "name": "stdout",
     "output_type": "stream",
     "text": [
      "Perimter of rectangel:  16\n",
      "Area of rectangel:  15\n",
      "Perimter of circle: 25.132741228718345\n",
      "Area of Circle:  50.26548245743669\n"
     ]
    }
   ],
   "source": [
    "from math import pi\n",
    "\n",
    "class Rectangle:\n",
    "    def __init__(self, length, breadth):\n",
    "        self.l = length\n",
    "        self.b = breadth\n",
    "    def perimeter(self):\n",
    "        return 2*(self.l + self.b)\n",
    "    def area(self):\n",
    "        return self.l * self.b\n",
    "\n",
    "class Circle:\n",
    "    def __init__(self, radius):\n",
    "        self.r = radius\n",
    "    def perimeter(self):\n",
    "        return 2 * pi * self.r\n",
    "    def area(self):\n",
    "        return pi * self.r ** 2\n",
    "\n",
    "# Initialize the classes\n",
    "rec = Rectangle(5,3)\n",
    "cr = Circle(4)\n",
    "print(\"Perimter of rectangel: \",rec.perimeter())\n",
    "print(\"Area of rectangel: \",rec.area())\n",
    "print(\"Perimter of circle:\",cr.perimeter())\n",
    "print(\"Area of Circle: \",cr.area())"
   ]
  },
  {
   "cell_type": "code",
   "execution_count": 26,
   "id": "7fbcbe78",
   "metadata": {},
   "outputs": [
    {
     "data": {
      "text/plain": [
       "mappingproxy({'__module__': '__main__',\n",
       "              '__init__': <function __main__.Rectangle.__init__(self, length, breadth)>,\n",
       "              'perimeter': <function __main__.Rectangle.perimeter(self)>,\n",
       "              'area': <function __main__.Rectangle.area(self)>,\n",
       "              '__dict__': <attribute '__dict__' of 'Rectangle' objects>,\n",
       "              '__weakref__': <attribute '__weakref__' of 'Rectangle' objects>,\n",
       "              '__doc__': None})"
      ]
     },
     "execution_count": 26,
     "metadata": {},
     "output_type": "execute_result"
    }
   ],
   "source": [
    "Rectangle.__dict__"
   ]
  },
  {
   "cell_type": "code",
   "execution_count": 28,
   "id": "c9af1b03",
   "metadata": {},
   "outputs": [
    {
     "data": {
      "text/plain": [
       "mappingproxy({'__module__': '__main__',\n",
       "              '__init__': <function __main__.Circle.__init__(self, radius)>,\n",
       "              'perimeter': <function __main__.Circle.perimeter(self)>,\n",
       "              'area': <function __main__.Circle.area(self)>,\n",
       "              '__dict__': <attribute '__dict__' of 'Circle' objects>,\n",
       "              '__weakref__': <attribute '__weakref__' of 'Circle' objects>,\n",
       "              '__doc__': None})"
      ]
     },
     "execution_count": 28,
     "metadata": {},
     "output_type": "execute_result"
    }
   ],
   "source": [
    "Circle.__dict__"
   ]
  },
  {
   "cell_type": "code",
   "execution_count": 31,
   "id": "77a81990",
   "metadata": {},
   "outputs": [
    {
     "data": {
      "text/plain": [
       "['l',\n",
       " 'b',\n",
       " '__module__',\n",
       " '__init__',\n",
       " 'perimeter',\n",
       " 'area',\n",
       " '__dict__',\n",
       " '__weakref__',\n",
       " '__doc__',\n",
       " '__repr__',\n",
       " '__hash__',\n",
       " '__str__',\n",
       " '__getattribute__',\n",
       " '__setattr__',\n",
       " '__delattr__',\n",
       " '__lt__',\n",
       " '__le__',\n",
       " '__eq__',\n",
       " '__ne__',\n",
       " '__gt__',\n",
       " '__ge__',\n",
       " '__new__',\n",
       " '__reduce_ex__',\n",
       " '__reduce__',\n",
       " '__subclasshook__',\n",
       " '__init_subclass__',\n",
       " '__format__',\n",
       " '__sizeof__',\n",
       " '__dir__',\n",
       " '__class__']"
      ]
     },
     "execution_count": 31,
     "metadata": {},
     "output_type": "execute_result"
    }
   ],
   "source": [
    "rec.__dir__()"
   ]
  },
  {
   "cell_type": "markdown",
   "id": "5cce4438",
   "metadata": {},
   "source": [
    "# Data Hiding:"
   ]
  },
  {
   "cell_type": "code",
   "execution_count": null,
   "id": "16a14540",
   "metadata": {},
   "outputs": [],
   "source": [
    "Data Hiding:\n",
    "    varaiable/attribute\n",
    "    Methods"
   ]
  },
  {
   "attachments": {
    "image.png": {
     "image/png": "[encoded data removed]"
    }
   },
   "cell_type": "markdown",
   "id": "723d9f48",
   "metadata": {},
   "source": [
    "![image.png](attachment:image.png)"
   ]
  },
  {
   "cell_type": "code",
   "execution_count": 51,
   "id": "39c00ae1",
   "metadata": {},
   "outputs": [],
   "source": [
    "class A:\n",
    "    __var1=\"private\" # __ private\n",
    "    _var2=\"protected\" # _ protected\n",
    "    var3=\"public\"     # default Public\n",
    "    def __init__(self,a,b,c):\n",
    "        self.__var1=a\n",
    "        self._var2=b\n",
    "        self.var3=c\n",
    "    def __display1(self): #private method\n",
    "        print(f\" private data is {self.__var1}\")\n",
    "        \n",
    "    def _display2(self): #protected method\n",
    "        print(f\"Protected data is ,{self._var2}\")\n",
    "        \n",
    "    def display3(self): #public method\n",
    "        print(f\"Public data is ,{self.var3}\")"
   ]
  },
  {
   "cell_type": "code",
   "execution_count": 52,
   "id": "6c9d2afc",
   "metadata": {},
   "outputs": [],
   "source": [
    "a1=A(\"a\",\"b\",\"c\")"
   ]
  },
  {
   "cell_type": "code",
   "execution_count": 57,
   "id": "43656814",
   "metadata": {},
   "outputs": [
    {
     "name": "stdout",
     "output_type": "stream",
     "text": [
      "Public data is ,c\n"
     ]
    }
   ],
   "source": [
    "a1.display3()"
   ]
  },
  {
   "cell_type": "code",
   "execution_count": 56,
   "id": "fd9826e0",
   "metadata": {},
   "outputs": [
    {
     "name": "stdout",
     "output_type": "stream",
     "text": [
      "Protected data is ,b\n"
     ]
    }
   ],
   "source": [
    "a1._display2()"
   ]
  },
  {
   "cell_type": "code",
   "execution_count": 54,
   "id": "b22d4282",
   "metadata": {},
   "outputs": [
    {
     "ename": "AttributeError",
     "evalue": "'A' object has no attribute '__display2'",
     "output_type": "error",
     "traceback": [
      "\u001b[1;31m---------------------------------------------------------------------------\u001b[0m",
      "\u001b[1;31mAttributeError\u001b[0m                            Traceback (most recent call last)",
      "Input \u001b[1;32mIn [54]\u001b[0m, in \u001b[0;36m<cell line: 1>\u001b[1;34m()\u001b[0m\n\u001b[1;32m----> 1\u001b[0m \u001b[43ma1\u001b[49m\u001b[38;5;241;43m.\u001b[39;49m\u001b[43m__display2\u001b[49m()\n",
      "\u001b[1;31mAttributeError\u001b[0m: 'A' object has no attribute '__display2'"
     ]
    }
   ],
   "source": [
    "a1.__display2() # private method can not access outside the class"
   ]
  },
  {
   "cell_type": "code",
   "execution_count": 55,
   "id": "11793e87",
   "metadata": {},
   "outputs": [
    {
     "ename": "AttributeError",
     "evalue": "'A' object has no attribute '__var1'",
     "output_type": "error",
     "traceback": [
      "\u001b[1;31m---------------------------------------------------------------------------\u001b[0m",
      "\u001b[1;31mAttributeError\u001b[0m                            Traceback (most recent call last)",
      "Input \u001b[1;32mIn [55]\u001b[0m, in \u001b[0;36m<cell line: 1>\u001b[1;34m()\u001b[0m\n\u001b[1;32m----> 1\u001b[0m \u001b[43ma1\u001b[49m\u001b[38;5;241;43m.\u001b[39;49m\u001b[43m__var1\u001b[49m\n",
      "\u001b[1;31mAttributeError\u001b[0m: 'A' object has no attribute '__var1'"
     ]
    }
   ],
   "source": [
    "a1.__var1# private attribute can not access outside the class"
   ]
  },
  {
   "cell_type": "markdown",
   "id": "0aac4951",
   "metadata": {},
   "source": [
    "# name mangling"
   ]
  },
  {
   "cell_type": "code",
   "execution_count": 59,
   "id": "88e39424",
   "metadata": {},
   "outputs": [
    {
     "data": {
      "text/plain": [
       "'a'"
      ]
     },
     "execution_count": 59,
     "metadata": {},
     "output_type": "execute_result"
    }
   ],
   "source": [
    "a1._A__var1   # name mangling attr"
   ]
  },
  {
   "cell_type": "code",
   "execution_count": 60,
   "id": "5a94cd63",
   "metadata": {},
   "outputs": [
    {
     "name": "stdout",
     "output_type": "stream",
     "text": [
      " private data is a\n"
     ]
    }
   ],
   "source": [
    "a1._A__display1()"
   ]
  },
  {
   "cell_type": "code",
   "execution_count": 58,
   "id": "6b96fcdc",
   "metadata": {},
   "outputs": [
    {
     "name": "stdout",
     "output_type": "stream",
     "text": [
      "['_A__display1', '_A__var1', '__class__', '__delattr__', '__dict__', '__dir__', '__doc__', '__eq__', '__format__', '__ge__', '__getattribute__', '__gt__', '__hash__', '__init__', '__init_subclass__', '__le__', '__lt__', '__module__', '__ne__', '__new__', '__reduce__', '__reduce_ex__', '__repr__', '__setattr__', '__sizeof__', '__str__', '__subclasshook__', '__weakref__', '_display2', '_var2', 'display3', 'var3']\n"
     ]
    }
   ],
   "source": [
    "print(dir(a1))"
   ]
  },
  {
   "cell_type": "code",
   "execution_count": 43,
   "id": "ee496f61",
   "metadata": {},
   "outputs": [],
   "source": []
  },
  {
   "cell_type": "markdown",
   "id": "48300795",
   "metadata": {},
   "source": [
    "# Python Inheritance"
   ]
  },
  {
   "cell_type": "raw",
   "id": "fe2f41a5",
   "metadata": {},
   "source": [
    "Inheritance allows us to define a class that inherits all the methods and properties from another class. \n",
    "Parent class is the class being inherited from, also called base class. \n",
    "Child class is the class that inherits from another class, also called derived class."
   ]
  },
  {
   "cell_type": "code",
   "execution_count": null,
   "id": "a34a7221",
   "metadata": {},
   "outputs": [],
   "source": [
    "Python Inheritance Syntax\n",
    "class BaseClass:\n",
    "  Body of base class\n",
    "class DerivedClass(BaseClass):\n",
    "  Body of derived class"
   ]
  },
  {
   "cell_type": "code",
   "execution_count": null,
   "id": "3bd0c6b5",
   "metadata": {},
   "outputs": [],
   "source": [
    "Types of Inheritance:"
   ]
  },
  {
   "cell_type": "code",
   "execution_count": null,
   "id": "623a7285",
   "metadata": {},
   "outputs": [],
   "source": [
    "Single inheritance"
   ]
  },
  {
   "attachments": {
    "image.png": {
     "image/png": "[encoded data removed]"
    }
   },
   "cell_type": "markdown",
   "id": "93d487b1",
   "metadata": {},
   "source": [
    "![image.png](attachment:image.png)"
   ]
  },
  {
   "cell_type": "code",
   "execution_count": 67,
   "id": "ebff780b",
   "metadata": {},
   "outputs": [],
   "source": [
    "class A:\n",
    "    def __init__(self,val1,val2):\n",
    "        self.val1=val1\n",
    "        self.val2=val2\n",
    "    def info(self):\n",
    "        print(\"It is Base/parent/super class method\")\n",
    "class B(A):\n",
    "    def __init__(self,val1,val2,val3):\n",
    "        self.val3=val3\n",
    "        super().__init__(val1,val2)\n",
    "        \n",
    "    "
   ]
  },
  {
   "cell_type": "code",
   "execution_count": 69,
   "id": "08e169f6",
   "metadata": {},
   "outputs": [],
   "source": [
    "o1=B(2,3,4)"
   ]
  },
  {
   "cell_type": "code",
   "execution_count": 70,
   "id": "342cf68f",
   "metadata": {},
   "outputs": [
    {
     "data": {
      "text/plain": [
       "2"
      ]
     },
     "execution_count": 70,
     "metadata": {},
     "output_type": "execute_result"
    }
   ],
   "source": [
    "o1.val1"
   ]
  },
  {
   "cell_type": "code",
   "execution_count": 71,
   "id": "6070a484",
   "metadata": {},
   "outputs": [
    {
     "data": {
      "text/plain": [
       "3"
      ]
     },
     "execution_count": 71,
     "metadata": {},
     "output_type": "execute_result"
    }
   ],
   "source": [
    "o1.val2"
   ]
  },
  {
   "cell_type": "code",
   "execution_count": 72,
   "id": "44d3e46b",
   "metadata": {},
   "outputs": [
    {
     "data": {
      "text/plain": [
       "4"
      ]
     },
     "execution_count": 72,
     "metadata": {},
     "output_type": "execute_result"
    }
   ],
   "source": [
    "o1.val3"
   ]
  },
  {
   "cell_type": "code",
   "execution_count": 81,
   "id": "0c6a770e",
   "metadata": {},
   "outputs": [
    {
     "name": "stdout",
     "output_type": "stream",
     "text": [
      "Ranjith\n",
      "4001105\n",
      "CSE\n"
     ]
    }
   ],
   "source": [
    "# parent class\n",
    "class Student():\n",
    "   # constructor of parent class\n",
    "   def __init__(self, name, enrollnumber):\n",
    "      self.name=name\n",
    "      self.enrollnumber=enrollnumber\n",
    "   def display(self):\n",
    "      print(self.name)\n",
    "      print(self.enrollnumber)\n",
    "      print(self.branch)\n",
    "# child class\n",
    "class College(Student):\n",
    "   def __init__(self, name, enrollnumber, admnyear, branch):\n",
    "      self.admnyear = admnyear\n",
    "      self.branch = branch\n",
    "      # invoking the __init__ of the parent class\n",
    "      super().__init__(name, enrollnumber)\n",
    "   def display_all_info(self):\n",
    "    print(f\"Name:{self.name},RegNo:{self.enrollnumber},Year of Admission:{self.admnyear},Branch:{self.branch}\")\n",
    "# creation of an object for base/derived class\n",
    "std1 = College('Ranjith',4001105,2020,\"CSE\")\n",
    "std1.display()"
   ]
  },
  {
   "cell_type": "code",
   "execution_count": 82,
   "id": "e2833b2e",
   "metadata": {},
   "outputs": [],
   "source": [
    "s1=Student(\"karthi\",456565)"
   ]
  },
  {
   "cell_type": "code",
   "execution_count": 83,
   "id": "ace22333",
   "metadata": {},
   "outputs": [
    {
     "name": "stdout",
     "output_type": "stream",
     "text": [
      "karthi\n",
      "456565\n"
     ]
    },
    {
     "ename": "AttributeError",
     "evalue": "'Student' object has no attribute 'branch'",
     "output_type": "error",
     "traceback": [
      "\u001b[1;31m---------------------------------------------------------------------------\u001b[0m",
      "\u001b[1;31mAttributeError\u001b[0m                            Traceback (most recent call last)",
      "Input \u001b[1;32mIn [83]\u001b[0m, in \u001b[0;36m<cell line: 1>\u001b[1;34m()\u001b[0m\n\u001b[1;32m----> 1\u001b[0m \u001b[43ms1\u001b[49m\u001b[38;5;241;43m.\u001b[39;49m\u001b[43mdisplay\u001b[49m\u001b[43m(\u001b[49m\u001b[43m)\u001b[49m\n",
      "Input \u001b[1;32mIn [81]\u001b[0m, in \u001b[0;36mStudent.display\u001b[1;34m(self)\u001b[0m\n\u001b[0;32m      8\u001b[0m \u001b[38;5;28mprint\u001b[39m(\u001b[38;5;28mself\u001b[39m\u001b[38;5;241m.\u001b[39mname)\n\u001b[0;32m      9\u001b[0m \u001b[38;5;28mprint\u001b[39m(\u001b[38;5;28mself\u001b[39m\u001b[38;5;241m.\u001b[39menrollnumber)\n\u001b[1;32m---> 10\u001b[0m \u001b[38;5;28mprint\u001b[39m(\u001b[38;5;28;43mself\u001b[39;49m\u001b[38;5;241;43m.\u001b[39;49m\u001b[43mbranch\u001b[49m)\n",
      "\u001b[1;31mAttributeError\u001b[0m: 'Student' object has no attribute 'branch'"
     ]
    }
   ],
   "source": [
    "s1.display() # s1 is parent object # it can not access the child class attributes"
   ]
  },
  {
   "cell_type": "code",
   "execution_count": 77,
   "id": "065bc5e8",
   "metadata": {},
   "outputs": [
    {
     "data": {
      "text/plain": [
       "'Ranjith'"
      ]
     },
     "execution_count": 77,
     "metadata": {},
     "output_type": "execute_result"
    }
   ],
   "source": [
    "std1.name"
   ]
  },
  {
   "cell_type": "code",
   "execution_count": 78,
   "id": "b5ddd31d",
   "metadata": {},
   "outputs": [
    {
     "name": "stdout",
     "output_type": "stream",
     "text": [
      "Name:Ranjith,RegNo:4001105,Year of Admission:2020,Branch:CSE\n"
     ]
    }
   ],
   "source": [
    "std1.display_all_info()"
   ]
  },
  {
   "cell_type": "code",
   "execution_count": 79,
   "id": "c994d952",
   "metadata": {},
   "outputs": [
    {
     "name": "stdout",
     "output_type": "stream",
     "text": [
      "Ranjith\n",
      "4001105\n"
     ]
    }
   ],
   "source": [
    "std1.display()"
   ]
  },
  {
   "cell_type": "code",
   "execution_count": 84,
   "id": "45380397",
   "metadata": {},
   "outputs": [
    {
     "name": "stdout",
     "output_type": "stream",
     "text": [
      "['__class__', '__delattr__', '__dict__', '__dir__', '__doc__', '__eq__', '__format__', '__ge__', '__getattribute__', '__gt__', '__hash__', '__init__', '__init_subclass__', '__le__', '__lt__', '__module__', '__ne__', '__new__', '__reduce__', '__reduce_ex__', '__repr__', '__setattr__', '__sizeof__', '__str__', '__subclasshook__', '__weakref__', 'admnyear', 'branch', 'display', 'display_all_info', 'enrollnumber', 'name']\n"
     ]
    }
   ],
   "source": [
    "print(dir(std1)) #child/subclass/derived class object"
   ]
  },
  {
   "cell_type": "code",
   "execution_count": 85,
   "id": "584587bb",
   "metadata": {},
   "outputs": [
    {
     "name": "stdout",
     "output_type": "stream",
     "text": [
      "['__class__', '__delattr__', '__dict__', '__dir__', '__doc__', '__eq__', '__format__', '__ge__', '__getattribute__', '__gt__', '__hash__', '__init__', '__init_subclass__', '__le__', '__lt__', '__module__', '__ne__', '__new__', '__reduce__', '__reduce_ex__', '__repr__', '__setattr__', '__sizeof__', '__str__', '__subclasshook__', '__weakref__', 'display', 'enrollnumber', 'name']\n"
     ]
    }
   ],
   "source": [
    "print(dir(s1)) # parent/ Base/super class object"
   ]
  },
  {
   "cell_type": "code",
   "execution_count": 90,
   "id": "3912119c",
   "metadata": {},
   "outputs": [
    {
     "data": {
      "text/plain": [
       "4001105"
      ]
     },
     "execution_count": 90,
     "metadata": {},
     "output_type": "execute_result"
    }
   ],
   "source": [
    "std1._enrollnumber"
   ]
  },
  {
   "cell_type": "code",
   "execution_count": 97,
   "id": "0119f9dc",
   "metadata": {},
   "outputs": [
    {
     "name": "stdout",
     "output_type": "stream",
     "text": [
      "Name:Ranjith,RegNo:4001105,Year of Admission:2020,Branch:CSE\n"
     ]
    }
   ],
   "source": [
    "std1.display_all_info()"
   ]
  },
  {
   "cell_type": "markdown",
   "id": "a086311d",
   "metadata": {},
   "source": [
    "# Multiple Inheritance\n",
    "\n",
    "A class can be derived from more than one base class in Python"
   ]
  },
  {
   "attachments": {
    "image.png": {
     "image/png": "[encoded data removed]"
    }
   },
   "cell_type": "markdown",
   "id": "afd9583b",
   "metadata": {},
   "source": [
    "![image.png](attachment:image.png)"
   ]
  },
  {
   "cell_type": "code",
   "execution_count": null,
   "id": "819f1013",
   "metadata": {},
   "outputs": [],
   "source": [
    "Example\n",
    "\n",
    "class Base1:\n",
    "    pass\n",
    "\n",
    "class Base2:\n",
    "    pass\n",
    "\n",
    "class MultiDerived(Base1, Base2):\n",
    "    pass"
   ]
  },
  {
   "cell_type": "code",
   "execution_count": 89,
   "id": "a58e7c18",
   "metadata": {},
   "outputs": [],
   "source": [
    "class Car:\n",
    "    def start(self):\n",
    "        print('Start the Car')\n",
    "\n",
    "    def go(self):\n",
    "        print('Going')\n",
    "\n",
    "class Flyable:\n",
    "    def start(self):\n",
    "        print('Start the Flyable object')\n",
    "    def fly(self):\n",
    "        print('Flying')\n",
    "\n",
    "class FlyingCar(Flyable, Car):\n",
    "    def start(self):\n",
    "         print(\"start the child class car\")\n",
    "         super().start()\n",
    "        "
   ]
  },
  {
   "cell_type": "code",
   "execution_count": 87,
   "id": "6b397ad0",
   "metadata": {},
   "outputs": [],
   "source": [
    "car1=FlyingCar()"
   ]
  },
  {
   "cell_type": "code",
   "execution_count": 88,
   "id": "0764aa95",
   "metadata": {},
   "outputs": [
    {
     "name": "stdout",
     "output_type": "stream",
     "text": [
      "start the child class car\n",
      "Start the Flyable object\n"
     ]
    }
   ],
   "source": [
    "car1.start()"
   ]
  },
  {
   "cell_type": "code",
   "execution_count": 90,
   "id": "28ee1342",
   "metadata": {},
   "outputs": [
    {
     "name": "stdout",
     "output_type": "stream",
     "text": [
      "Flying\n"
     ]
    }
   ],
   "source": [
    "car1.fly()"
   ]
  },
  {
   "cell_type": "code",
   "execution_count": 91,
   "id": "be2725dd",
   "metadata": {},
   "outputs": [
    {
     "name": "stdout",
     "output_type": "stream",
     "text": [
      "Going\n"
     ]
    }
   ],
   "source": [
    "car1.go()"
   ]
  },
  {
   "cell_type": "code",
   "execution_count": 92,
   "id": "1fefdc3c",
   "metadata": {},
   "outputs": [
    {
     "data": {
      "text/plain": [
       "(__main__.FlyingCar, __main__.Flyable, __main__.Car, object)"
      ]
     },
     "execution_count": 92,
     "metadata": {},
     "output_type": "execute_result"
    }
   ],
   "source": [
    "FlyingCar.__mro__ #method resolution order"
   ]
  },
  {
   "cell_type": "markdown",
   "id": "15b834e4",
   "metadata": {},
   "source": [
    "# Multilevel Inheritance:"
   ]
  },
  {
   "attachments": {
    "image.png": {
     "image/png": "[encoded data removed]"
    }
   },
   "cell_type": "markdown",
   "id": "45976d7a",
   "metadata": {},
   "source": [
    "![image.png](attachment:image.png)"
   ]
  },
  {
   "cell_type": "code",
   "execution_count": null,
   "id": "f9b1e7f0",
   "metadata": {},
   "outputs": [],
   "source": [
    "class A:\n",
    "    pass\n",
    "class B(A):\n",
    "    pass\n",
    "class C(B):\n",
    "    pass\n"
   ]
  },
  {
   "cell_type": "code",
   "execution_count": 111,
   "id": "5ac3d784",
   "metadata": {},
   "outputs": [
    {
     "name": "stdout",
     "output_type": "stream",
     "text": [
      "Srinivas 24 Hyderabad\n"
     ]
    }
   ],
   "source": [
    "class Parent:\n",
    "   def __init__(self,name):\n",
    "     self.name = name\n",
    "   def getName(self):\n",
    "     return self.name\n",
    "class Child(Parent):\n",
    "   def __init__(self,name,age):\n",
    "     Parent.__init__(self,name)\n",
    "     self.age = age\n",
    "   def getAge(self):\n",
    "     return self.age\n",
    "class Grandchild(Child):\n",
    "   def __init__(self,name,age,location):\n",
    "     Child.__init__(self,name,age)\n",
    "     self.location=location\n",
    "   def getLocation(self):\n",
    "     return self.location\n",
    "gc = Grandchild(\"Srinivas\",24,\"Hyderabad\")\n",
    "print(gc.getName(), gc.getAge(), gc.getLocation())"
   ]
  },
  {
   "cell_type": "code",
   "execution_count": null,
   "id": "d1970f57",
   "metadata": {},
   "outputs": [],
   "source": []
  },
  {
   "cell_type": "code",
   "execution_count": null,
   "id": "eb4349ce",
   "metadata": {},
   "outputs": [],
   "source": []
  },
  {
   "cell_type": "code",
   "execution_count": null,
   "id": "bc1aa882",
   "metadata": {},
   "outputs": [],
   "source": [
    "# parent class\n",
    "class Student:\n",
    "   # constructor of parent class\n",
    "   def __init__(self, name, enrollnumber):\n",
    "      self.name = name\n",
    "      self.enrollnumber = enrollnumber\n",
    "   def display(self):\n",
    "      print(self.name)\n",
    "      print(self.enrollnumber)\n",
    "# child class\n",
    "class College(Student):\n",
    "   def __init__(self, name, enrollnumber, admnyear, branch):\n",
    "      self.admnyear = admnyear\n",
    "      self.branch = branch\n",
    "      # invoking the __init__ of the parent class\n",
    "      Student.__init__(self, name, enrollnumber)\n",
    "# child class\n",
    "class University(Student):\n",
    "   def __init__(self, name, enrollnumber, refno, branch):\n",
    "      self.refno = refno\n",
    "      self.branch = branch\n",
    "      # invoking the __init__ of the parent class\n",
    "      Student.__init__(self, name, enrollnumber)\n",
    "# creation of an object for base/derived class\n",
    "obj_1 = College('Rohit',42414802718,2018,\"CSE\")\n",
    "obj_1.display()\n",
    "obj_2 = University ('Rohit',42414802718,\"st2018\",\"CSE\")\n",
    "obj_2.display()"
   ]
  },
  {
   "cell_type": "code",
   "execution_count": null,
   "id": "b8568cda",
   "metadata": {},
   "outputs": [],
   "source": []
  }
 ],
 "metadata": {
  "kernelspec": {
   "display_name": "Python 3 (ipykernel)",
   "language": "python",
   "name": "python3"
  },
  "language_info": {
   "codemirror_mode": {
    "name": "ipython",
    "version": 3
   },
   "file_extension": ".py",
   "mimetype": "text/x-python",
   "name": "python",
   "nbconvert_exporter": "python",
   "pygments_lexer": "ipython3",
   "version": "3.9.12"
  }
 },
 "nbformat": 4,
 "nbformat_minor": 5
}
