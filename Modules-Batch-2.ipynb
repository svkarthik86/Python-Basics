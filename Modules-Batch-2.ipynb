{
 "cells": [
  {
   "cell_type": "markdown",
   "id": "db97f9a3",
   "metadata": {},
   "source": [
    "# Modules"
   ]
  },
  {
   "cell_type": "markdown",
   "id": "4b434bc0",
   "metadata": {},
   "source": [
    "###                                     Module\n",
    "\n",
    "- Consider a module to be the same as a code library.\n",
    "- A file containing a set of functions you want to include in your application"
   ]
  },
  {
   "cell_type": "markdown",
   "id": "3ff0f2d5",
   "metadata": {},
   "source": [
    "### Create a Module\n",
    "- To create a module just save the code you want in a file with the file extension .py:\n",
    "- Writing a module is like writing a simple Python program in a file and saving it in .py extension.\n",
    "- Modules contain definitions of functions, classes and variables, which can be utilised in other programs.\n",
    "Let us create a simple file ArithModule.py"
   ]
  },
  {
   "cell_type": "code",
   "execution_count": null,
   "id": "55ed4ca1",
   "metadata": {},
   "outputs": [],
   "source": []
  },
  {
   "cell_type": "markdown",
   "id": "65206c8a",
   "metadata": {},
   "source": [
    "## User Defined Modules"
   ]
  },
  {
   "cell_type": "raw",
   "id": "18356c8a",
   "metadata": {},
   "source": [
    "Step1: Create .py file as Module with vaild file name:\n",
    "    ArithModule.py"
   ]
  },
  {
   "cell_type": "markdown",
   "id": "35c77a7b",
   "metadata": {},
   "source": [
    "```\n",
    "#ArithModule.py\n",
    "def add(x,y):\n",
    "    return x+y\n",
    "def sub(x,y):\n",
    "    return x-y\n",
    "def mul(x,y):\n",
    "    return x*y\n",
    "def div(x,y):\n",
    "    return x/y\n",
    "def power(x,y):\n",
    "    return(x**y)\n",
    "def find_mean(*x):\n",
    "    return sum(list(x))/len(list(x))\n",
    "month=[\"jan\",\"Feb\",\"march\",\"april\"]\n",
    "colors=(\"Black\",\"Green\",\"Blue\")\n",
    "person={\"name\":\"Rajan\",\"age\"=30}\n",
    "```"
   ]
  },
  {
   "cell_type": "code",
   "execution_count": null,
   "id": "dca01363",
   "metadata": {},
   "outputs": [],
   "source": [
    "# importing user defined Module"
   ]
  },
  {
   "cell_type": "code",
   "execution_count": 17,
   "id": "f3606b02",
   "metadata": {},
   "outputs": [],
   "source": [
    "import ArithModule"
   ]
  },
  {
   "cell_type": "code",
   "execution_count": null,
   "id": "d3d4fc19",
   "metadata": {},
   "outputs": [],
   "source": [
    "# Use the Methods in ArithModule "
   ]
  },
  {
   "cell_type": "code",
   "execution_count": 3,
   "id": "a08a10a4",
   "metadata": {},
   "outputs": [
    {
     "data": {
      "text/plain": [
       "10"
      ]
     },
     "execution_count": 3,
     "metadata": {},
     "output_type": "execute_result"
    }
   ],
   "source": [
    "ArithModule.add(4,6)"
   ]
  },
  {
   "cell_type": "code",
   "execution_count": 5,
   "id": "e6f00ee5",
   "metadata": {},
   "outputs": [
    {
     "data": {
      "text/plain": [
       "5.0"
      ]
     },
     "execution_count": 5,
     "metadata": {},
     "output_type": "execute_result"
    }
   ],
   "source": [
    "ArithModule.find_mean(2,4,6,8)"
   ]
  },
  {
   "cell_type": "code",
   "execution_count": 18,
   "id": "4ea03d00",
   "metadata": {},
   "outputs": [
    {
     "data": {
      "text/plain": [
       "20"
      ]
     },
     "execution_count": 18,
     "metadata": {},
     "output_type": "execute_result"
    }
   ],
   "source": [
    "# Re-Name the Module  # alias Name for Module using as keyword\n",
    "import ArithModule as am\n",
    "am.sub(25,5)"
   ]
  },
  {
   "cell_type": "code",
   "execution_count": 7,
   "id": "dbe16abe",
   "metadata": {},
   "outputs": [
    {
     "data": {
      "text/plain": [
       "16"
      ]
     },
     "execution_count": 7,
     "metadata": {},
     "output_type": "execute_result"
    }
   ],
   "source": [
    "am.power(4,2)"
   ]
  },
  {
   "cell_type": "code",
   "execution_count": null,
   "id": "8b00c8ea",
   "metadata": {},
   "outputs": [],
   "source": []
  },
  {
   "cell_type": "code",
   "execution_count": 8,
   "id": "4fd235c7",
   "metadata": {},
   "outputs": [
    {
     "data": {
      "text/plain": [
       "56.0"
      ]
     },
     "execution_count": 8,
     "metadata": {},
     "output_type": "execute_result"
    }
   ],
   "source": [
    "# import only particular function/Method from Module  # work as built-in function\n",
    "from ArithModule import find_mean\n",
    "find_mean(45,56,67)"
   ]
  },
  {
   "cell_type": "code",
   "execution_count": 9,
   "id": "a1b3cc79",
   "metadata": {},
   "outputs": [],
   "source": [
    "# import all function,data,class as built-ins \n",
    "from ArithModule import *"
   ]
  },
  {
   "cell_type": "code",
   "execution_count": 10,
   "id": "01e1f253",
   "metadata": {},
   "outputs": [
    {
     "data": {
      "text/plain": [
       "11"
      ]
     },
     "execution_count": 10,
     "metadata": {},
     "output_type": "execute_result"
    }
   ],
   "source": [
    "add(5,6)"
   ]
  },
  {
   "cell_type": "code",
   "execution_count": null,
   "id": "e39b6b05",
   "metadata": {},
   "outputs": [],
   "source": [
    "#Acess the variable from the Module"
   ]
  },
  {
   "cell_type": "code",
   "execution_count": 13,
   "id": "94f76bb2",
   "metadata": {},
   "outputs": [
    {
     "data": {
      "text/plain": [
       "{'name': 'Rajan', 'age': 30}"
      ]
     },
     "execution_count": 13,
     "metadata": {},
     "output_type": "execute_result"
    }
   ],
   "source": [
    "am.person"
   ]
  },
  {
   "cell_type": "code",
   "execution_count": 14,
   "id": "fcb36a7d",
   "metadata": {},
   "outputs": [],
   "source": [
    "person.update({\"Mobile\":324345})"
   ]
  },
  {
   "cell_type": "code",
   "execution_count": 15,
   "id": "4c702537",
   "metadata": {},
   "outputs": [
    {
     "data": {
      "text/plain": [
       "{'name': 'Rajan', 'age': 30, 'Mobile': 324345}"
      ]
     },
     "execution_count": 15,
     "metadata": {},
     "output_type": "execute_result"
    }
   ],
   "source": [
    "am.person"
   ]
  },
  {
   "cell_type": "code",
   "execution_count": 16,
   "id": "9ee3a8da",
   "metadata": {},
   "outputs": [
    {
     "data": {
      "text/plain": [
       "['jan', 'Feb', 'march', 'april']"
      ]
     },
     "execution_count": 16,
     "metadata": {},
     "output_type": "execute_result"
    }
   ],
   "source": [
    "am.month"
   ]
  },
  {
   "cell_type": "code",
   "execution_count": 19,
   "id": "5aacf452",
   "metadata": {},
   "outputs": [
    {
     "ename": "AttributeError",
     "evalue": "module 'ArithModule' has no attribute 'find_mode'",
     "output_type": "error",
     "traceback": [
      "\u001b[1;31m---------------------------------------------------------------------------\u001b[0m",
      "\u001b[1;31mAttributeError\u001b[0m                            Traceback (most recent call last)",
      "Input \u001b[1;32mIn [19]\u001b[0m, in \u001b[0;36m<cell line: 1>\u001b[1;34m()\u001b[0m\n\u001b[1;32m----> 1\u001b[0m \u001b[43mam\u001b[49m\u001b[38;5;241;43m.\u001b[39;49m\u001b[43mfind_mode\u001b[49m(\u001b[38;5;241m5\u001b[39m,\u001b[38;5;241m56\u001b[39m,\u001b[38;5;241m66\u001b[39m,\u001b[38;5;241m5\u001b[39m,\u001b[38;5;241m5\u001b[39m)\n",
      "\u001b[1;31mAttributeError\u001b[0m: module 'ArithModule' has no attribute 'find_mode'"
     ]
    }
   ],
   "source": [
    "am.find_mode(5,56,66,5,5)"
   ]
  },
  {
   "cell_type": "code",
   "execution_count": null,
   "id": "6146fee2",
   "metadata": {},
   "outputs": [],
   "source": [
    "# any upadte in Module , should reload the Module"
   ]
  },
  {
   "cell_type": "code",
   "execution_count": null,
   "id": "a6da6722",
   "metadata": {},
   "outputs": [],
   "source": [
    "#Reload the Module"
   ]
  },
  {
   "cell_type": "code",
   "execution_count": 20,
   "id": "d451cfcc",
   "metadata": {},
   "outputs": [
    {
     "data": {
      "text/plain": [
       "<module 'ArithModule' from 'C:\\\\Users\\\\karthick\\\\ArithModule.py'>"
      ]
     },
     "execution_count": 20,
     "metadata": {},
     "output_type": "execute_result"
    }
   ],
   "source": [
    "import importlib\n",
    "importlib.reload(ArithModule)"
   ]
  },
  {
   "cell_type": "code",
   "execution_count": 21,
   "id": "7809602e",
   "metadata": {},
   "outputs": [],
   "source": [
    "import ArithModule as am"
   ]
  },
  {
   "cell_type": "code",
   "execution_count": 22,
   "id": "cc983063",
   "metadata": {},
   "outputs": [
    {
     "data": {
      "text/plain": [
       "5"
      ]
     },
     "execution_count": 22,
     "metadata": {},
     "output_type": "execute_result"
    }
   ],
   "source": [
    "am.find_mode(5,56,66,5,5)"
   ]
  },
  {
   "cell_type": "code",
   "execution_count": 23,
   "id": "61ad7c1e",
   "metadata": {},
   "outputs": [
    {
     "data": {
      "text/plain": [
       "'a'"
      ]
     },
     "execution_count": 23,
     "metadata": {},
     "output_type": "execute_result"
    }
   ],
   "source": [
    "am.find_mode(\"a\",\"b\",\"a\",\"c\")"
   ]
  },
  {
   "cell_type": "markdown",
   "id": "f3087200",
   "metadata": {},
   "source": [
    "# Buit-in Modules"
   ]
  },
  {
   "cell_type": "code",
   "execution_count": null,
   "id": "1854e2ac",
   "metadata": {},
   "outputs": [],
   "source": [
    "#List out the all the available Modules"
   ]
  },
  {
   "cell_type": "code",
   "execution_count": 24,
   "id": "5eb48688",
   "metadata": {},
   "outputs": [
    {
     "name": "stdout",
     "output_type": "stream",
     "text": [
      "\n",
      "Please wait a moment while I gather a list of all available modules...\n",
      "\n"
     ]
    },
    {
     "name": "stderr",
     "output_type": "stream",
     "text": [
      "WARNING: AstropyDeprecationWarning: The private astropy._erfa module has been made into its own package, pyerfa, which is a dependency of astropy and can be imported directly using \"import erfa\" [astropy._erfa]\n",
      "[WARNING 2022-05-27 16:38:20.320 astropy]: AstropyDeprecationWarning: The private astropy._erfa module has been made into its own package, pyerfa, which is a dependency of astropy and can be imported directly using \"import erfa\"\n",
      "[INFO 2022-05-27 16:38:22.462 numexpr.utils]: NumExpr defaulting to 8 threads.\n",
      "[INFO 2022-05-27 16:38:23.343 comtypes.client._code_cache]: Imported existing <module 'comtypes.gen' from 'C:\\\\Users\\\\karthick\\\\anaconda3\\\\lib\\\\site-packages\\\\comtypes\\\\gen\\\\__init__.py'>\n",
      "[INFO 2022-05-27 16:38:23.344 comtypes.client._code_cache]: Using writeable comtypes cache directory: 'C:\\Users\\karthick\\anaconda3\\lib\\site-packages\\comtypes\\gen'\n",
      "C:\\Users\\karthick\\anaconda3\\lib\\site-packages\\nltk\\twitter\\__init__.py:20: UserWarning: The twython library has not been installed. Some functionality from the twitter package will not be available.\n",
      "  warnings.warn(\n",
      "C:\\Users\\karthick\\anaconda3\\lib\\site-packages\\_distutils_hack\\__init__.py:30: UserWarning: Setuptools is replacing distutils.\n",
      "  warnings.warn(\"Setuptools is replacing distutils.\")\n",
      "[INFO 2022-05-27 16:38:35.753 qdarkstyle]: QSS file sucessfuly loaded.\n",
      "[INFO 2022-05-27 16:38:35.754 qdarkstyle]: Found application patches to be applied.\n",
      "[WARNING 2022-05-27 16:38:35.755 qdarkstyle]: No QCoreApplication instance found. Application patches not applied. You have to call load_stylesheet function after instantiation of QApplication to take effect. \n",
      "C:\\Users\\karthick\\anaconda3\\lib\\pkgutil.py:108: VisibleDeprecationWarning:\n",
      "\n",
      "zmq.eventloop.minitornado is deprecated in pyzmq 14.0 and will be removed.\n",
      "    Install tornado itself to use zmq with the tornado IOLoop.\n",
      "    \n",
      "\n"
     ]
    },
    {
     "name": "stdout",
     "output_type": "stream",
     "text": [
      "ArithModule         commctrl            mkl_fft             sndhdr\n",
      "Cython              compileall          mkl_random          sniffio\n",
      "Data                comtypes            mmap                snowballstemmer\n",
      "IPython             concurrent          mmapfile            socket\n",
      "OpenSSL             conda               mmsystem            socketserver\n",
      "PIL                 conda_build         mock                socks\n",
      "PyQt5               conda_content_trust modulefinder        sockshandler\n",
      "TBB                 conda_env           mpmath              sortedcollections\n",
      "__future__          conda_pack          msgpack             sortedcontainers\n",
      "_abc                conda_package_handling msilib              soupsieve\n",
      "_aix_support        conda_token         msvcrt              sphinx\n",
      "_argon2_cffi_bindings conda_verify        multidict           spyder\n",
      "_ast                configparser        multipledispatch    spyder_kernels\n",
      "_asyncio            constantly          multiprocessing     sqlalchemy\n",
      "_bisect             contextlib          munkres             sqlite3\n",
      "_black_version      contextvars         mypy_extensions     sre_compile\n",
      "_blake2             cookiecutter        nacl                sre_constants\n",
      "_bootlocale         copy                navigator_updater   sre_parse\n",
      "_bootsubprocess     copyreg             nbclassic           ssl\n",
      "_bz2                crypt               nbclient            sspi\n",
      "_cffi_backend       cryptography        nbconvert           sspicon\n",
      "_codecs             cssselect           nbformat            stack_data\n",
      "_codecs_cn          csv                 nest_asyncio        stat\n",
      "_codecs_hk          ctypes              netbios             statistics\n",
      "_codecs_iso2022     curl                netrc               statsmodels\n",
      "_codecs_jp          curses              networkx            string\n",
      "_codecs_kr          cwp                 nltk                stringprep\n",
      "_codecs_tw          cycler              nntplib             struct\n",
      "_collections        cython              nose                subprocess\n",
      "_collections_abc    cytoolz             notebook            sunau\n",
      "_compat_pickle      daal4py             nt                  symbol\n",
      "_compression        dask                ntpath              sympy\n",
      "_contextvars        dataclasses         ntsecuritycon       symtable\n",
      "_csv                datashader          nturl2path          sys\n",
      "_ctypes             datashape           numba               sysconfig\n",
      "_ctypes_test        datetime            numbergen           tables\n",
      "_datetime           dateutil            numbers             tabnanny\n",
      "_decimal            dbi                 numexpr             tabulate\n",
      "_distutils_hack     dbm                 numpy               tarfile\n",
      "_elementtree        dde                 numpydoc            tbb\n",
      "_functools          debugpy             odbc                tblib\n",
      "_hashlib            decimal             olefile             telnetlib\n",
      "_heapq              decorator           onedal              tempfile\n",
      "_imp                defusedxml          opcode              tenacity\n",
      "_io                 diff_match_patch    openpyxl            terminado\n",
      "_json               difflib             operator            test\n",
      "_locale             dis                 optparse            test_pycosat\n",
      "_lsprof             distributed         os                  testpath\n",
      "_lzma               distutils           packaging           text_unidecode\n",
      "_markupbase         doctest             pandas              textdistance\n",
      "_md5                docutils            pandocfilters       textwrap\n",
      "_msi                email               panel               this\n",
      "_multibytecodec     encodings           param               threading\n",
      "_multiprocessing    ensurepip           paramiko            threadpoolctl\n",
      "_nsis               entrypoints         parsel              three_merge\n",
      "_opcode             enum                parser              tifffile\n",
      "_operator           erfa                parso               time\n",
      "_osx_support        errno               partd               timeit\n",
      "_overlapped         et_xmlfile          past                timer\n",
      "_peg_parser         executing           pathlib             tinycss\n",
      "_pickle             fastjsonschema      pathspec            tkinter\n",
      "_plotly_future_     faulthandler        patsy               tldextract\n",
      "_plotly_utils       filecmp             pdb                 tlz\n",
      "_py_abc             fileinput           pep8                token\n",
      "_pydecimal          filelock            perfmon             tokenize\n",
      "_pyio               flake8              pexpect             toml\n",
      "_pyrsistent_version flask               pickle              tomli\n",
      "_pytest             fnmatch             pickleshare         toolz\n",
      "_queue              fontTools           pickletools         tornado\n",
      "_random             formatter           pip                 tqdm\n",
      "_sha1               fractions           pipes               trace\n",
      "_sha256             frozenlist          pkg_resources       traceback\n",
      "_sha3               fsspec              pkginfo             tracemalloc\n",
      "_sha512             ftplib              pkgutil             traitlets\n",
      "_signal             functools           platform            tty\n",
      "_sitebuiltins       future              plistlib            turtle\n",
      "_socket             gc                  plotly              turtledemo\n",
      "_sqlite3            genericpath         pluggy              twisted\n",
      "_sre                gensim              poplib              typed_ast\n",
      "_ssl                getopt              posixpath           types\n",
      "_stat               getpass             poyo                typing\n",
      "_statistics         gettext             pprint              typing_extensions\n",
      "_string             glob                profile             ujson\n",
      "_strptime           glob2               prometheus_client   unicodedata\n",
      "_struct             google_crc32c       prompt_toolkit      unidecode\n",
      "_symtable           graphlib            protego             unittest\n",
      "_system_path        greenlet            pstats              untitled\n",
      "_testbuffer         grpc                psutil              untitled1\n",
      "_testcapi           gzip                pty                 urllib\n",
      "_testconsole        h5py                ptyprocess          urllib3\n",
      "_testimportmultiple hamcrest            pure_eval           uu\n",
      "_testinternalcapi   hashlib             pvectorc            uuid\n",
      "_testmultiphase     heapdict            py                  venv\n",
      "_thread             heapq               py_compile          w3lib\n",
      "_threading_local    hmac                pyasn1              warnings\n",
      "_tkinter            holoviews           pyasn1_modules      watchdog\n",
      "_tracemalloc        html                pyclbr              wave\n",
      "_uuid               http                pycodestyle         wcwidth\n",
      "_warnings           hvplot              pycosat             weakref\n",
      "_weakref            hyperlink           pycparser           webbrowser\n",
      "_weakrefset         idlelib             pyct                webencodings\n",
      "_win32sysloader     idna                pycurl              websocket\n",
      "_winapi             imagecodecs         pydispatch          werkzeug\n",
      "_winxptheme         imageio             pydoc               wheel\n",
      "_xxsubinterpreters  imagesize           pydoc_data          widgetsnbextension\n",
      "_yaml               imaplib             pydocstyle          win2kras\n",
      "_zoneinfo           imghdr              pyexpat             win32api\n",
      "abc                 imp                 pyflakes            win32clipboard\n",
      "adodbapi            importlib           pygments            win32com\n",
      "afxres              importlib_metadata  pylab               win32con\n",
      "aifc                incremental         pylint              win32console\n",
      "aiohttp             inflection          pyls                win32cred\n",
      "aiosignal           iniconfig           pyls_jsonrpc        win32crypt\n",
      "alabaster           inspect             pyls_spyder         win32cryptcon\n",
      "anaconda_navigator  intake              pylsp               win32ctypes\n",
      "anaconda_project    intervaltree        pylsp_black         win32event\n",
      "antigravity         io                  pylsp_jsonrpc       win32evtlog\n",
      "anyio               ipaddress           pyodbc              win32evtlogutil\n"
     ]
    },
    {
     "name": "stdout",
     "output_type": "stream",
     "text": [
      "appdirs             ipykernel           pyparsing           win32file\n",
      "argon2              ipykernel_launcher  pyreadline          win32gui\n",
      "argparse            ipython_genutils    pyrsistent          win32gui_struct\n",
      "arithModule1        ipywidgets          pytest              win32help\n",
      "array               isapi               pythoncom           win32inet\n",
      "arrow               isort               pytz                win32inetcon\n",
      "ast                 isympy              pyviz_comms         win32job\n",
      "astroid             itemadapter         pywin               win32lz\n",
      "astropy             itemloaders         pywin32_bootstrap   win32net\n",
      "asttokens           itertools           pywin32_testutil    win32netcon\n",
      "async_timeout       itsdangerous        pywintypes          win32pdh\n",
      "asynchat            jdcal               pywt                win32pdhquery\n",
      "asyncio             jedi                pyximport           win32pdhutil\n",
      "asyncore            jinja2              qdarkstyle          win32pipe\n",
      "atexit              jinja2_time         qstylizer           win32print\n",
      "atomicwrites        jmespath            qtawesome           win32process\n",
      "attr                joblib              qtconsole           win32profile\n",
      "attrs               json                qtpy                win32ras\n",
      "audioop             json5               queue               win32rcparser\n",
      "automat             jsonschema          queuelib            win32security\n",
      "autopep8            jupyter             quopri              win32service\n",
      "babel               jupyter_client      random              win32serviceutil\n",
      "backcall            jupyter_console     rasutil             win32timezone\n",
      "backports           jupyter_contrib_core re                  win32trace\n",
      "base64              jupyter_contrib_nbextensions readline            win32traceutil\n",
      "bcrypt              jupyter_core        regcheck            win32transaction\n",
      "bdb                 jupyter_highlight_selected_word regex               win32ts\n",
      "binaryornot         jupyter_nbextensions_configurator regutil             win32ui\n",
      "binascii            jupyter_server      repo_cli            win32uiole\n",
      "binhex              jupyter_tabnine     reprlib             win32verstamp\n",
      "binstar_client      jupyterlab          requests            win32wnet\n",
      "bisect              jupyterlab_github   requests_file       win_inet_pton\n",
      "bitarray            jupyterlab_plotly   rlcompleter         win_unicode_console\n",
      "bkcharts            jupyterlab_pygments rope                wincertstore\n",
      "black               jupyterlab_server   rsa                 winerror\n",
      "blackd              jupyterlab_tabnine  rtree               winioctlcon\n",
      "bleach              jupyterlab_widgets  ruamel_yaml         winnt\n",
      "blib2to3            jwt                 run                 winperf\n",
      "bokeh               keyring             runpy               winpty\n",
      "boto3               keyword             s3transfer          winreg\n",
      "botocore            kiwisolver          sched               winsound\n",
      "bottleneck          latex_envs          scipy               winxpgui\n",
      "brotli              lazy_object_proxy   scrapy              winxptheme\n",
      "bs4                 lib2to3             seaborn             wrapt\n",
      "builtins            libarchive          secrets             wsgiref\n",
      "bz2                 libfuturize         select              xarray\n",
      "cProfile            libpasteurize       selectors           xdrlib\n",
      "cachetools          lief                send2trash          xlrd\n",
      "calendar            linecache           service_identity    xlsxwriter\n",
      "certifi             llvmlite            servicemanager      xlwings\n",
      "cffi                locale              setuptools          xml\n",
      "cgi                 locket              shelve              xmlrpc\n",
      "cgitb               logging             shlex               xxsubtype\n",
      "chardet             lxml                shutil              yaml\n",
      "charset_normalizer  lzma                signal              yapf\n",
      "chunk               mailbox             sip                 yapftests\n",
      "click               mailcap             sipconfig           yarl\n",
      "cloudpickle         markdown            sipdistutils        zict\n",
      "clyent              markupsafe          site                zipapp\n",
      "cmath               marshal             six                 zipfile\n",
      "cmd                 math                skimage             zipimport\n",
      "code                matplotlib          sklearn             zipp\n",
      "codecs              matplotlib_inline   sklearnex           zlib\n",
      "codeop              mccabe              slugify             zmq\n",
      "collections         menuinst            smart_open          zoneinfo\n",
      "colorama            mimetypes           smtpd               zope\n",
      "colorcet            mistune             smtplib             \n",
      "colorsys            mkl                 snappy              \n",
      "\n",
      "Enter any module name to get more help.  Or, type \"modules spam\" to search\n",
      "for modules whose name or summary contain the string \"spam\".\n",
      "\n"
     ]
    }
   ],
   "source": [
    "help(\"modules\")"
   ]
  },
  {
   "cell_type": "code",
   "execution_count": null,
   "id": "ebf97736",
   "metadata": {},
   "outputs": [],
   "source": [
    "# Math Module"
   ]
  },
  {
   "cell_type": "code",
   "execution_count": 25,
   "id": "4e37c986",
   "metadata": {},
   "outputs": [],
   "source": [
    "import math"
   ]
  },
  {
   "cell_type": "code",
   "execution_count": 26,
   "id": "8621b1c3",
   "metadata": {},
   "outputs": [
    {
     "name": "stdout",
     "output_type": "stream",
     "text": [
      "['__doc__', '__loader__', '__name__', '__package__', '__spec__', 'acos', 'acosh', 'asin', 'asinh', 'atan', 'atan2', 'atanh', 'ceil', 'comb', 'copysign', 'cos', 'cosh', 'degrees', 'dist', 'e', 'erf', 'erfc', 'exp', 'expm1', 'fabs', 'factorial', 'floor', 'fmod', 'frexp', 'fsum', 'gamma', 'gcd', 'hypot', 'inf', 'isclose', 'isfinite', 'isinf', 'isnan', 'isqrt', 'lcm', 'ldexp', 'lgamma', 'log', 'log10', 'log1p', 'log2', 'modf', 'nan', 'nextafter', 'perm', 'pi', 'pow', 'prod', 'radians', 'remainder', 'sin', 'sinh', 'sqrt', 'tan', 'tanh', 'tau', 'trunc', 'ulp']\n"
     ]
    }
   ],
   "source": [
    "#view the methods and attributes/data\n",
    "print(dir(math))"
   ]
  },
  {
   "cell_type": "code",
   "execution_count": 27,
   "id": "ac2927b5",
   "metadata": {},
   "outputs": [
    {
     "data": {
      "text/plain": [
       "3.141592653589793"
      ]
     },
     "execution_count": 27,
     "metadata": {},
     "output_type": "execute_result"
    }
   ],
   "source": [
    "# pi is attribute of math\n",
    "math.pi"
   ]
  },
  {
   "cell_type": "code",
   "execution_count": 28,
   "id": "e91f7392",
   "metadata": {},
   "outputs": [
    {
     "data": {
      "text/plain": [
       "4.0"
      ]
     },
     "execution_count": 28,
     "metadata": {},
     "output_type": "execute_result"
    }
   ],
   "source": [
    "# sart() is method associated with math module\n",
    "math.sqrt(16)"
   ]
  },
  {
   "cell_type": "code",
   "execution_count": 29,
   "id": "9bfc50da",
   "metadata": {},
   "outputs": [
    {
     "name": "stderr",
     "output_type": "stream",
     "text": [
      "'[image.png]' is not recognized as an internal or external command,\n",
      "operable program or batch file.\n"
     ]
    }
   ],
   "source": [
    "# #Emily has 4 chairs and she wants to place 3 dolls on these chairs. In how many possible ways can she do this?\n",
    "# #Solution -order\n",
    "# Given n = 4 and r = 3\n",
    "# Applying the permutation formula \n",
    "# nPr = n!/(n−r)!\n",
    "#math.perm(n, k)\n"
   ]
  },
  {
   "cell_type": "raw",
   "id": "63ac1743",
   "metadata": {},
   "source": [
    "Emily has 4 chairs and she wants to place 3 dolls on these chairs. In how many possible ways can she do this?"
   ]
  },
  {
   "cell_type": "code",
   "execution_count": 30,
   "id": "fb96b6ff",
   "metadata": {},
   "outputs": [
    {
     "data": {
      "text/plain": [
       "24"
      ]
     },
     "execution_count": 30,
     "metadata": {},
     "output_type": "execute_result"
    }
   ],
   "source": [
    "math.perm(4,3)"
   ]
  },
  {
   "cell_type": "code",
   "execution_count": 31,
   "id": "c8b8d1d7",
   "metadata": {},
   "outputs": [
    {
     "data": {
      "text/plain": [
       "120"
      ]
     },
     "execution_count": 31,
     "metadata": {},
     "output_type": "execute_result"
    }
   ],
   "source": [
    "math.factorial(5)"
   ]
  },
  {
   "cell_type": "code",
   "execution_count": 36,
   "id": "20462ea6",
   "metadata": {},
   "outputs": [
    {
     "data": {
      "text/plain": [
       "-272241.80840927624"
      ]
     },
     "execution_count": 36,
     "metadata": {},
     "output_type": "execute_result"
    }
   ],
   "source": [
    "math.tan(1.5708)"
   ]
  },
  {
   "cell_type": "code",
   "execution_count": 32,
   "id": "c36cbf4c",
   "metadata": {},
   "outputs": [
    {
     "name": "stdout",
     "output_type": "stream",
     "text": [
      "Help on built-in function erfc in module math:\n",
      "\n",
      "erfc(x, /)\n",
      "    Complementary error function at x.\n",
      "\n"
     ]
    }
   ],
   "source": [
    "help(math.erfc)"
   ]
  },
  {
   "cell_type": "code",
   "execution_count": 40,
   "id": "ea962e49",
   "metadata": {},
   "outputs": [
    {
     "data": {
      "text/plain": [
       "0.4795001221869534"
      ]
     },
     "execution_count": 40,
     "metadata": {},
     "output_type": "execute_result"
    }
   ],
   "source": [
    "math.erfc(0.5)"
   ]
  },
  {
   "cell_type": "code",
   "execution_count": null,
   "id": "1ea869f5",
   "metadata": {},
   "outputs": [],
   "source": [
    "#os module"
   ]
  },
  {
   "cell_type": "code",
   "execution_count": 41,
   "id": "bee3ae84",
   "metadata": {},
   "outputs": [
    {
     "name": "stdout",
     "output_type": "stream",
     "text": [
      "['DirEntry', 'F_OK', 'GenericAlias', 'Mapping', 'MutableMapping', 'O_APPEND', 'O_BINARY', 'O_CREAT', 'O_EXCL', 'O_NOINHERIT', 'O_RANDOM', 'O_RDONLY', 'O_RDWR', 'O_SEQUENTIAL', 'O_SHORT_LIVED', 'O_TEMPORARY', 'O_TEXT', 'O_TRUNC', 'O_WRONLY', 'P_DETACH', 'P_NOWAIT', 'P_NOWAITO', 'P_OVERLAY', 'P_WAIT', 'PathLike', 'R_OK', 'SEEK_CUR', 'SEEK_END', 'SEEK_SET', 'TMP_MAX', 'W_OK', 'X_OK', '_AddedDllDirectory', '_Environ', '__all__', '__builtins__', '__cached__', '__doc__', '__file__', '__loader__', '__name__', '__package__', '__spec__', '_check_methods', '_execvpe', '_exists', '_exit', '_fspath', '_get_exports_list', '_walk', '_wrap_close', 'abc', 'abort', 'access', 'add_dll_directory', 'altsep', 'chdir', 'chmod', 'close', 'closerange', 'cpu_count', 'curdir', 'defpath', 'device_encoding', 'devnull', 'dup', 'dup2', 'environ', 'error', 'execl', 'execle', 'execlp', 'execlpe', 'execv', 'execve', 'execvp', 'execvpe', 'extsep', 'fdopen', 'fsdecode', 'fsencode', 'fspath', 'fstat', 'fsync', 'ftruncate', 'get_exec_path', 'get_handle_inheritable', 'get_inheritable', 'get_terminal_size', 'getcwd', 'getcwdb', 'getenv', 'getlogin', 'getpid', 'getppid', 'isatty', 'kill', 'linesep', 'link', 'listdir', 'lseek', 'lstat', 'makedirs', 'mkdir', 'name', 'open', 'pardir', 'path', 'pathsep', 'pipe', 'popen', 'putenv', 'read', 'readlink', 'remove', 'removedirs', 'rename', 'renames', 'replace', 'rmdir', 'scandir', 'sep', 'set_handle_inheritable', 'set_inheritable', 'spawnl', 'spawnle', 'spawnv', 'spawnve', 'st', 'startfile', 'stat', 'stat_result', 'statvfs_result', 'strerror', 'supports_bytes_environ', 'supports_dir_fd', 'supports_effective_ids', 'supports_fd', 'supports_follow_symlinks', 'symlink', 'sys', 'system', 'terminal_size', 'times', 'times_result', 'truncate', 'umask', 'uname_result', 'unlink', 'unsetenv', 'urandom', 'utime', 'waitpid', 'waitstatus_to_exitcode', 'walk', 'write']\n"
     ]
    }
   ],
   "source": [
    "import os\n",
    "print(dir(os))"
   ]
  },
  {
   "cell_type": "code",
   "execution_count": 42,
   "id": "f4c0c7e8",
   "metadata": {},
   "outputs": [
    {
     "data": {
      "text/plain": [
       "'C:\\\\Users\\\\karthick'"
      ]
     },
     "execution_count": 42,
     "metadata": {},
     "output_type": "execute_result"
    }
   ],
   "source": [
    "os.getcwd()"
   ]
  },
  {
   "cell_type": "code",
   "execution_count": 43,
   "id": "1658e22b",
   "metadata": {},
   "outputs": [],
   "source": [
    "os.mkdir(\"I:\\Test\") # create new folder/directory"
   ]
  },
  {
   "cell_type": "code",
   "execution_count": 48,
   "id": "09ba6bdd",
   "metadata": {},
   "outputs": [],
   "source": [
    "os.mkdir(\"Test2\")"
   ]
  },
  {
   "cell_type": "code",
   "execution_count": 47,
   "id": "e2162951",
   "metadata": {},
   "outputs": [
    {
     "data": {
      "text/plain": [
       "['$RECYCLE.BIN',\n",
       " 'EduBridge',\n",
       " 'EduBridge1',\n",
       " 'LinkedIn',\n",
       " 'System Volume Information',\n",
       " 'Test']"
      ]
     },
     "execution_count": 47,
     "metadata": {},
     "output_type": "execute_result"
    }
   ],
   "source": [
    "os.listdir(\"I:\")"
   ]
  },
  {
   "cell_type": "code",
   "execution_count": 53,
   "id": "4198a503",
   "metadata": {},
   "outputs": [
    {
     "name": "stdout",
     "output_type": "stream",
     "text": [
      "ArithModule.py\n",
      "arithModule1.py\n",
      "Data.py\n",
      "untitled.py\n",
      "untitled1.py\n"
     ]
    }
   ],
   "source": [
    "for file in os.listdir():\n",
    "    if file.endswith(\".py\"):\n",
    "        print(file)"
   ]
  },
  {
   "cell_type": "code",
   "execution_count": 54,
   "id": "3be520d4",
   "metadata": {},
   "outputs": [],
   "source": [
    "def find_files(types,path):\n",
    "    file_list=[]\n",
    "    for file in os.listdir(path):\n",
    "        if file.endswith(\".\"+types):\n",
    "            file_list.append(file)\n",
    "    return file_list\n",
    "        "
   ]
  },
  {
   "cell_type": "code",
   "execution_count": 61,
   "id": "ce49522d",
   "metadata": {},
   "outputs": [
    {
     "data": {
      "text/plain": [
       "4"
      ]
     },
     "execution_count": 61,
     "metadata": {},
     "output_type": "execute_result"
    }
   ],
   "source": [
    "len(find_files(\"docx\",r\"E:\\Edubridge\\Assignment\"))"
   ]
  },
  {
   "cell_type": "code",
   "execution_count": null,
   "id": "b0f1043e",
   "metadata": {},
   "outputs": [],
   "source": []
  }
 ],
 "metadata": {
  "kernelspec": {
   "display_name": "Python 3 (ipykernel)",
   "language": "python",
   "name": "python3"
  },
  "language_info": {
   "codemirror_mode": {
    "name": "ipython",
    "version": 3
   },
   "file_extension": ".py",
   "mimetype": "text/x-python",
   "name": "python",
   "nbconvert_exporter": "python",
   "pygments_lexer": "ipython3",
   "version": "3.9.12"
  }
 },
 "nbformat": 4,
 "nbformat_minor": 5
}
