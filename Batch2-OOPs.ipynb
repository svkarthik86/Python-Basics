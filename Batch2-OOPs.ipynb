{
 "cells": [
  {
   "cell_type": "code",
   "execution_count": null,
   "id": "183616e4",
   "metadata": {},
   "outputs": [],
   "source": [
    "OPP"
   ]
  },
  {
   "cell_type": "raw",
   "id": "71c90abc",
   "metadata": {},
   "source": [
    "syntax:\n",
    "class class-name:\n",
    "    atrributes/variables\n",
    "    magic methods()#dunder methods()# __init__(self):\n",
    "    classsmethods()/instant methods\n",
    "    statements\n",
    "    "
   ]
  },
  {
   "cell_type": "code",
   "execution_count": 1,
   "id": "b32f3387",
   "metadata": {},
   "outputs": [],
   "source": [
    "#creating class\n",
    "class Demo:\n",
    "    pass"
   ]
  },
  {
   "cell_type": "code",
   "execution_count": 3,
   "id": "77e913e7",
   "metadata": {},
   "outputs": [],
   "source": [
    "# creating object\n",
    "D1=Demo() #object instantation #object initialization# object creation"
   ]
  },
  {
   "cell_type": "code",
   "execution_count": 4,
   "id": "e61a7a31",
   "metadata": {},
   "outputs": [
    {
     "name": "stdout",
     "output_type": "stream",
     "text": [
      "<__main__.Demo object at 0x000002813A450280>\n"
     ]
    }
   ],
   "source": [
    "print(D1)"
   ]
  },
  {
   "cell_type": "code",
   "execution_count": 5,
   "id": "2bed46b8",
   "metadata": {},
   "outputs": [
    {
     "name": "stdout",
     "output_type": "stream",
     "text": [
      "<class '__main__.Demo'>\n"
     ]
    }
   ],
   "source": [
    "#type checking\n",
    "print(type(D1))"
   ]
  },
  {
   "cell_type": "code",
   "execution_count": 6,
   "id": "033ca950",
   "metadata": {},
   "outputs": [
    {
     "name": "stdout",
     "output_type": "stream",
     "text": [
      "<class 'int'>\n"
     ]
    }
   ],
   "source": [
    "x=23\n",
    "print(type(x))"
   ]
  },
  {
   "cell_type": "code",
   "execution_count": 7,
   "id": "91918dc3",
   "metadata": {},
   "outputs": [
    {
     "name": "stdout",
     "output_type": "stream",
     "text": [
      "['__class__', '__delattr__', '__dict__', '__dir__', '__doc__', '__eq__', '__format__', '__ge__', '__getattribute__', '__gt__', '__hash__', '__init__', '__init_subclass__', '__le__', '__lt__', '__module__', '__ne__', '__new__', '__reduce__', '__reduce_ex__', '__repr__', '__setattr__', '__sizeof__', '__str__', '__subclasshook__', '__weakref__']\n"
     ]
    }
   ],
   "source": [
    "print(dir(D1))"
   ]
  },
  {
   "cell_type": "code",
   "execution_count": 8,
   "id": "68af21c6",
   "metadata": {},
   "outputs": [
    {
     "name": "stdout",
     "output_type": "stream",
     "text": [
      "<class '__main__.Demo'>\n"
     ]
    }
   ],
   "source": [
    "print(D1.__class__)"
   ]
  },
  {
   "cell_type": "code",
   "execution_count": 27,
   "id": "85290ee5",
   "metadata": {},
   "outputs": [],
   "source": [
    "class Book:\n",
    "    def __init__(self,title,author,page,price): #implict when obj created \n",
    "        self.title=title\n",
    "        self.author=author\n",
    "        self.page=page\n",
    "        self.price=price\n",
    "    def book_info(self):\n",
    "        print(f\"the book title:{self.title},Author:{self.author},pages:{self.page},Price:{self.price}\")\n",
    "    \n",
    "    def __repr__(self):# implicit while print the object\n",
    "        return f\"the book title:{self.title},Author:{self.author},pages:{self.page},Price:{self.price}\"\n",
    "    "
   ]
  },
  {
   "cell_type": "code",
   "execution_count": 23,
   "id": "198a32e1",
   "metadata": {},
   "outputs": [],
   "source": [
    "B1=Book(\"Python Programming\",\"Tim benerLee\",350,450)"
   ]
  },
  {
   "cell_type": "code",
   "execution_count": 24,
   "id": "c2537639",
   "metadata": {},
   "outputs": [
    {
     "name": "stdout",
     "output_type": "stream",
     "text": [
      "the book title:Python Programming,Author:Tim benerLee,pages:350,Price:450\n"
     ]
    }
   ],
   "source": [
    "print(B1) #encapsulate the methods and data"
   ]
  },
  {
   "cell_type": "code",
   "execution_count": 13,
   "id": "70509423",
   "metadata": {},
   "outputs": [
    {
     "name": "stdout",
     "output_type": "stream",
     "text": [
      "the book title:Python Programming,Author:Tim benerLee,pages:350,Price:450\n",
      "None\n"
     ]
    }
   ],
   "source": [
    "print(B1.book_info())"
   ]
  },
  {
   "cell_type": "code",
   "execution_count": 14,
   "id": "d6c3c4bf",
   "metadata": {},
   "outputs": [
    {
     "name": "stdout",
     "output_type": "stream",
     "text": [
      "['__class__', '__delattr__', '__dict__', '__dir__', '__doc__', '__eq__', '__format__', '__ge__', '__getattribute__', '__gt__', '__hash__', '__init__', '__init_subclass__', '__le__', '__lt__', '__module__', '__ne__', '__new__', '__reduce__', '__reduce_ex__', '__repr__', '__setattr__', '__sizeof__', '__str__', '__subclasshook__', '__weakref__', 'author', 'book_info', 'page', 'price', 'title']\n"
     ]
    }
   ],
   "source": [
    "print(dir(B1))"
   ]
  },
  {
   "cell_type": "code",
   "execution_count": 15,
   "id": "ebe5a99c",
   "metadata": {},
   "outputs": [
    {
     "data": {
      "text/plain": [
       "__main__.Book"
      ]
     },
     "execution_count": 15,
     "metadata": {},
     "output_type": "execute_result"
    }
   ],
   "source": [
    "B1.__class__"
   ]
  },
  {
   "cell_type": "code",
   "execution_count": 16,
   "id": "ce04ae42",
   "metadata": {},
   "outputs": [
    {
     "data": {
      "text/plain": [
       "{'title': 'Python Programming',\n",
       " 'author': 'Tim benerLee',\n",
       " 'page': 350,\n",
       " 'price': 450}"
      ]
     },
     "execution_count": 16,
     "metadata": {},
     "output_type": "execute_result"
    }
   ],
   "source": [
    "B1.__dict__"
   ]
  },
  {
   "cell_type": "code",
   "execution_count": 25,
   "id": "0db13ab4",
   "metadata": {},
   "outputs": [],
   "source": [
    "B2=Book(\"Java Programming\",\"Keenthkar\",400,650)"
   ]
  },
  {
   "cell_type": "code",
   "execution_count": 19,
   "id": "f37587ca",
   "metadata": {},
   "outputs": [
    {
     "name": "stdout",
     "output_type": "stream",
     "text": [
      "the book title:Java Programming,Author:Keenthkar,pages:400,Price:650\n"
     ]
    }
   ],
   "source": [
    "B2.book_info()"
   ]
  },
  {
   "cell_type": "code",
   "execution_count": 20,
   "id": "340ea5c3",
   "metadata": {},
   "outputs": [
    {
     "data": {
      "text/plain": [
       "{'title': 'Java Programming', 'author': 'Keenthkar', 'page': 400, 'price': 650}"
      ]
     },
     "execution_count": 20,
     "metadata": {},
     "output_type": "execute_result"
    }
   ],
   "source": [
    "B2.__dict__"
   ]
  },
  {
   "cell_type": "code",
   "execution_count": 26,
   "id": "99de4643",
   "metadata": {},
   "outputs": [
    {
     "data": {
      "text/plain": [
       "the book title:Java Programming,Author:Keenthkar,pages:400,Price:650"
      ]
     },
     "execution_count": 26,
     "metadata": {},
     "output_type": "execute_result"
    }
   ],
   "source": [
    "B2"
   ]
  },
  {
   "cell_type": "code",
   "execution_count": 28,
   "id": "ec128eb8",
   "metadata": {},
   "outputs": [
    {
     "data": {
      "text/plain": [
       "__main__.Book"
      ]
     },
     "execution_count": 28,
     "metadata": {},
     "output_type": "execute_result"
    }
   ],
   "source": [
    "type(B1)"
   ]
  },
  {
   "cell_type": "code",
   "execution_count": 30,
   "id": "0b9d44e6",
   "metadata": {},
   "outputs": [
    {
     "data": {
      "text/plain": [
       "['title',\n",
       " 'author',\n",
       " 'page',\n",
       " 'price',\n",
       " '__module__',\n",
       " '__init__',\n",
       " 'book_info',\n",
       " '__repr__',\n",
       " '__dict__',\n",
       " '__weakref__',\n",
       " '__doc__',\n",
       " '__hash__',\n",
       " '__str__',\n",
       " '__getattribute__',\n",
       " '__setattr__',\n",
       " '__delattr__',\n",
       " '__lt__',\n",
       " '__le__',\n",
       " '__eq__',\n",
       " '__ne__',\n",
       " '__gt__',\n",
       " '__ge__',\n",
       " '__new__',\n",
       " '__reduce_ex__',\n",
       " '__reduce__',\n",
       " '__subclasshook__',\n",
       " '__init_subclass__',\n",
       " '__format__',\n",
       " '__sizeof__',\n",
       " '__dir__',\n",
       " '__class__']"
      ]
     },
     "execution_count": 30,
     "metadata": {},
     "output_type": "execute_result"
    }
   ],
   "source": [
    "B1.__dir__()"
   ]
  },
  {
   "cell_type": "code",
   "execution_count": null,
   "id": "25ee0fab",
   "metadata": {},
   "outputs": [],
   "source": []
  }
 ],
 "metadata": {
  "kernelspec": {
   "display_name": "Python 3 (ipykernel)",
   "language": "python",
   "name": "python3"
  },
  "language_info": {
   "codemirror_mode": {
    "name": "ipython",
    "version": 3
   },
   "file_extension": ".py",
   "mimetype": "text/x-python",
   "name": "python",
   "nbconvert_exporter": "python",
   "pygments_lexer": "ipython3",
   "version": "3.9.12"
  }
 },
 "nbformat": 4,
 "nbformat_minor": 5
}
